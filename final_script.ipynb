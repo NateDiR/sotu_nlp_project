{
 "cells": [
  {
   "cell_type": "code",
   "execution_count": 1,
   "metadata": {},
   "outputs": [],
   "source": [
    "%reset -fs"
   ]
  },
  {
   "cell_type": "code",
   "execution_count": 2,
   "metadata": {},
   "outputs": [],
   "source": [
    "import pandas as pd\n",
    "import numpy as np\n",
    "import string\n",
    "import re\n",
    "import spacy\n",
    "from sklearn.feature_extraction.text import CountVectorizer, TfidfVectorizer\n",
    "from sklearn.decomposition import TruncatedSVD, LatentDirichletAllocation\n",
    "from corextopic import corextopic as ct\n",
    "from corextopic import vis_topic as vt"
   ]
  },
  {
   "cell_type": "code",
   "execution_count": 3,
   "metadata": {},
   "outputs": [
    {
     "data": {
      "text/html": [
       "<div>\n",
       "<style scoped>\n",
       "    .dataframe tbody tr th:only-of-type {\n",
       "        vertical-align: middle;\n",
       "    }\n",
       "\n",
       "    .dataframe tbody tr th {\n",
       "        vertical-align: top;\n",
       "    }\n",
       "\n",
       "    .dataframe thead th {\n",
       "        text-align: right;\n",
       "    }\n",
       "</style>\n",
       "<table border=\"1\" class=\"dataframe\">\n",
       "  <thead>\n",
       "    <tr style=\"text-align: right;\">\n",
       "      <th></th>\n",
       "      <th>President</th>\n",
       "      <th>Year</th>\n",
       "      <th>Title</th>\n",
       "      <th>Text</th>\n",
       "    </tr>\n",
       "  </thead>\n",
       "  <tbody>\n",
       "    <tr>\n",
       "      <th>0</th>\n",
       "      <td>George Washington</td>\n",
       "      <td>1790</td>\n",
       "      <td>First State of the Union Address</td>\n",
       "      <td>['I embrace with great satisfaction the opport...</td>\n",
       "    </tr>\n",
       "    <tr>\n",
       "      <th>1</th>\n",
       "      <td>George Washington</td>\n",
       "      <td>1790</td>\n",
       "      <td>Second State of the Union Address</td>\n",
       "      <td>['Fellow-Citizens of the Senate and the House ...</td>\n",
       "    </tr>\n",
       "    <tr>\n",
       "      <th>2</th>\n",
       "      <td>George Washington</td>\n",
       "      <td>1791</td>\n",
       "      <td>Third State of the Union Address</td>\n",
       "      <td>['Fellow-Citizens of the Senate and the House ...</td>\n",
       "    </tr>\n",
       "    <tr>\n",
       "      <th>3</th>\n",
       "      <td>George Washington</td>\n",
       "      <td>1792</td>\n",
       "      <td>Fourth State of the Union Address</td>\n",
       "      <td>['Fellow-Citizens of the Senate and of the Hou...</td>\n",
       "    </tr>\n",
       "    <tr>\n",
       "      <th>4</th>\n",
       "      <td>George Washington</td>\n",
       "      <td>1793</td>\n",
       "      <td>Fifth State of the Union Address</td>\n",
       "      <td>['Fellow Citizens of the Senate and of the Hou...</td>\n",
       "    </tr>\n",
       "    <tr>\n",
       "      <th>...</th>\n",
       "      <td>...</td>\n",
       "      <td>...</td>\n",
       "      <td>...</td>\n",
       "      <td>...</td>\n",
       "    </tr>\n",
       "    <tr>\n",
       "      <th>215</th>\n",
       "      <td>Barack Obama</td>\n",
       "      <td>2016</td>\n",
       "      <td>Barack Obama's Eighth State of the Union Address</td>\n",
       "      <td>['Mr. Speaker, Mr. Vice President, Members of ...</td>\n",
       "    </tr>\n",
       "    <tr>\n",
       "      <th>216</th>\n",
       "      <td>Donald Trump</td>\n",
       "      <td>2017</td>\n",
       "      <td>Donald Trump's First State of the Union Address</td>\n",
       "      <td>['Mr. Speaker, Mr. Vice President, Members of ...</td>\n",
       "    </tr>\n",
       "    <tr>\n",
       "      <th>217</th>\n",
       "      <td>Donald Trump</td>\n",
       "      <td>2018</td>\n",
       "      <td>Donald Trump's Second State of the Union Address</td>\n",
       "      <td>['Mr. Speaker, Mr. Vice President, Members of ...</td>\n",
       "    </tr>\n",
       "    <tr>\n",
       "      <th>218</th>\n",
       "      <td>Donald Trump</td>\n",
       "      <td>2019</td>\n",
       "      <td>Donald Trump's Third State of the Union Address</td>\n",
       "      <td>['Madam Speaker, Mr. Vice President, Members o...</td>\n",
       "    </tr>\n",
       "    <tr>\n",
       "      <th>219</th>\n",
       "      <td>Joe Biden</td>\n",
       "      <td>2022</td>\n",
       "      <td>Joe Biden's First State of The Union Address</td>\n",
       "      <td>['Madam Speaker, Madam Vice President, our Fir...</td>\n",
       "    </tr>\n",
       "  </tbody>\n",
       "</table>\n",
       "<p>220 rows × 4 columns</p>\n",
       "</div>"
      ],
      "text/plain": [
       "             President  Year  \\\n",
       "0    George Washington  1790   \n",
       "1    George Washington  1790   \n",
       "2    George Washington  1791   \n",
       "3    George Washington  1792   \n",
       "4    George Washington  1793   \n",
       "..                 ...   ...   \n",
       "215       Barack Obama  2016   \n",
       "216       Donald Trump  2017   \n",
       "217       Donald Trump  2018   \n",
       "218       Donald Trump  2019   \n",
       "219          Joe Biden  2022   \n",
       "\n",
       "                                                Title  \\\n",
       "0                    First State of the Union Address   \n",
       "1                   Second State of the Union Address   \n",
       "2                    Third State of the Union Address   \n",
       "3                   Fourth State of the Union Address   \n",
       "4                    Fifth State of the Union Address   \n",
       "..                                                ...   \n",
       "215  Barack Obama's Eighth State of the Union Address   \n",
       "216   Donald Trump's First State of the Union Address   \n",
       "217  Donald Trump's Second State of the Union Address   \n",
       "218   Donald Trump's Third State of the Union Address   \n",
       "219      Joe Biden's First State of The Union Address   \n",
       "\n",
       "                                                  Text  \n",
       "0    ['I embrace with great satisfaction the opport...  \n",
       "1    ['Fellow-Citizens of the Senate and the House ...  \n",
       "2    ['Fellow-Citizens of the Senate and the House ...  \n",
       "3    ['Fellow-Citizens of the Senate and of the Hou...  \n",
       "4    ['Fellow Citizens of the Senate and of the Hou...  \n",
       "..                                                 ...  \n",
       "215  ['Mr. Speaker, Mr. Vice President, Members of ...  \n",
       "216  ['Mr. Speaker, Mr. Vice President, Members of ...  \n",
       "217  ['Mr. Speaker, Mr. Vice President, Members of ...  \n",
       "218  ['Madam Speaker, Mr. Vice President, Members o...  \n",
       "219  ['Madam Speaker, Madam Vice President, our Fir...  \n",
       "\n",
       "[220 rows x 4 columns]"
      ]
     },
     "execution_count": 3,
     "metadata": {},
     "output_type": "execute_result"
    }
   ],
   "source": [
    "df = pd.read_csv('sotu_texts.csv')\n",
    "df"
   ]
  },
  {
   "cell_type": "code",
   "execution_count": 4,
   "metadata": {},
   "outputs": [],
   "source": [
    "alphanumeric = lambda x: re.sub('\\w*\\d\\w*', ' ', x)\n",
    "punc_lower = lambda x: re.sub('[%s]' % re.escape(string.punctuation), ' ', x.lower())\n",
    "\n",
    "df['Text'] = df.Text.map(alphanumeric).map(punc_lower)"
   ]
  },
  {
   "cell_type": "code",
   "execution_count": 5,
   "metadata": {},
   "outputs": [],
   "source": [
    "nlp = spacy.load(\"en_core_web_sm\")\n",
    "docs = nlp.pipe(df.Text)"
   ]
  },
  {
   "cell_type": "code",
   "execution_count": 6,
   "metadata": {},
   "outputs": [],
   "source": [
    "docs_clean = [[w.lemma_.lower() for w in doc if (not w.is_stop and not w.is_punct and not w.like_num)] for doc in docs]\n",
    "df['docs_clean'] = docs_clean"
   ]
  },
  {
   "cell_type": "code",
   "execution_count": 7,
   "metadata": {},
   "outputs": [],
   "source": [
    "docs_list_clean = [' '.join(doc) for doc in docs_clean]\n"
   ]
  },
  {
   "cell_type": "code",
   "execution_count": 8,
   "metadata": {},
   "outputs": [],
   "source": [
    "count_vec = CountVectorizer(stop_words='english')\n",
    "X = count_vec.fit_transform(docs_list_clean)"
   ]
  },
  {
   "cell_type": "code",
   "execution_count": 9,
   "metadata": {},
   "outputs": [],
   "source": [
    "num_topics = 10\n",
    "topics = TruncatedSVD(num_topics)\n",
    "doc_topic = topics.fit_transform(X)"
   ]
  },
  {
   "cell_type": "code",
   "execution_count": 10,
   "metadata": {},
   "outputs": [],
   "source": [
    "topic_word = pd.DataFrame(topics.components_.round(3),\n",
    "             columns = count_vec.get_feature_names_out())"
   ]
  },
  {
   "cell_type": "code",
   "execution_count": 11,
   "metadata": {},
   "outputs": [],
   "source": [
    "def display_topics(model, feature_names, no_top_words, topic_names=None):\n",
    "    for ix, topic in enumerate(model.components_):\n",
    "        if not topic_names or not topic_names[ix]:\n",
    "            print(\"\\nTopic \", ix)\n",
    "        else:\n",
    "            print(\"\\nTopic: '\",topic_names[ix],\"'\")\n",
    "        print(\", \".join([feature_names[i]\n",
    "                        for i in topic.argsort()[:-no_top_words - 1:-1]]))"
   ]
  },
  {
   "cell_type": "code",
   "execution_count": 12,
   "metadata": {},
   "outputs": [
    {
     "name": "stdout",
     "output_type": "stream",
     "text": [
      "\n",
      "Topic  0\n",
      "government, year, congress, united, states, country, state, great, law, people\n",
      "\n",
      "Topic  1\n",
      "program, year, world, new, work, need, help, america, nation, federal\n",
      "\n",
      "Topic  2\n",
      "program, dollar, year, fiscal, united, war, expenditure, policy, administration, states\n",
      "\n",
      "Topic  3\n",
      "man, law, court, service, business, department, dollar, legislation, national, need\n",
      "\n",
      "Topic  4\n",
      "war, dollar, man, expenditure, power, people, great, peace, public, state\n",
      "\n",
      "Topic  5\n",
      "nation, administration, state, policy, man, energy, effort, continue, program, power\n",
      "\n",
      "Topic  6\n",
      "mexico, united, war, states, american, texas, mexican, man, peace, army\n",
      "\n",
      "Topic  7\n",
      "mexico, country, nof, nthe, texas, mexican, nto, nand, army, public\n",
      "\n",
      "Topic  8\n",
      "state, dollar, constitution, american, government, program, department, business, canal, united\n",
      "\n",
      "Topic  9\n",
      "world, government, nof, nthe, american, free, shall, nand, nto, great\n"
     ]
    }
   ],
   "source": [
    "display_topics(topics, count_vec.get_feature_names_out(), 10)"
   ]
  },
  {
   "cell_type": "code",
   "execution_count": 13,
   "metadata": {},
   "outputs": [],
   "source": [
    "tfidf_vec = TfidfVectorizer(stop_words='english')\n",
    "X = tfidf_vec.fit_transform(docs_list_clean)"
   ]
  },
  {
   "cell_type": "code",
   "execution_count": 14,
   "metadata": {},
   "outputs": [],
   "source": [
    "doc_topic = topics.fit_transform(X)"
   ]
  },
  {
   "cell_type": "code",
   "execution_count": 15,
   "metadata": {},
   "outputs": [
    {
     "name": "stdout",
     "output_type": "stream",
     "text": [
      "\n",
      "Topic  0\n",
      "government, year, congress, united, states, country, great, people, state, nation\n",
      "\n",
      "Topic  1\n",
      "america, world, job, program, help, tonight, americans, people, new, year\n",
      "\n",
      "Topic  2\n",
      "nof, nthe, nand, nto, nin, nit, nfor, na, nthat, nbe\n",
      "\n",
      "Topic  3\n",
      "nof, nthe, nand, tonight, applause, nto, america, job, ve, child\n",
      "\n",
      "Topic  4\n",
      "year, cent, department, government, secretary, report, silver, fiscal, work, legislation\n",
      "\n",
      "Topic  5\n",
      "man, applause, war, fight, enemy, world, japanese, great, corporation, people\n",
      "\n",
      "Topic  6\n",
      "applause, soviet, united, states, mexico, year, world, free, iraq, congress\n",
      "\n",
      "Topic  7\n",
      "applause, public, ve, iraq, federal, terrorist, iraqi, bank, recovery, economic\n",
      "\n",
      "Topic  8\n",
      "government, state, people, constitution, mexico, texas, power, bank, duty, union\n",
      "\n",
      "Topic  9\n",
      "states, united, spain, treaty, gentleman, government, commissioner, island, article, nation\n"
     ]
    }
   ],
   "source": [
    "display_topics(topics, tfidf_vec.get_feature_names_out(), 10)"
   ]
  },
  {
   "cell_type": "code",
   "execution_count": 16,
   "metadata": {},
   "outputs": [],
   "source": [
    "topics = LatentDirichletAllocation(n_components=num_topics)"
   ]
  },
  {
   "cell_type": "code",
   "execution_count": 17,
   "metadata": {},
   "outputs": [],
   "source": [
    "X = count_vec.fit_transform(docs_list_clean)"
   ]
  },
  {
   "cell_type": "code",
   "execution_count": 18,
   "metadata": {},
   "outputs": [],
   "source": [
    "doc_topic = topics.fit_transform(X)"
   ]
  },
  {
   "cell_type": "code",
   "execution_count": 19,
   "metadata": {},
   "outputs": [
    {
     "name": "stdout",
     "output_type": "stream",
     "text": [
      "\n",
      "Topic  0\n",
      "man, law, nation, government, people, good, great, state, case, american\n",
      "\n",
      "Topic  1\n",
      "year, nation, world, people, congress, new, government, great, america, program\n",
      "\n",
      "Topic  2\n",
      "year, program, world, government, nation, federal, economic, increase, need, war\n",
      "\n",
      "Topic  3\n",
      "government, great, law, country, man, congress, people, public, work, nation\n",
      "\n",
      "Topic  4\n",
      "mexico, government, states, united, war, texas, country, congress, mexican, territory\n",
      "\n",
      "Topic  5\n",
      "armistice, canada, detroit, impressment, hull, brigadier, recompense, insufficiency, non, capricious\n",
      "\n",
      "Topic  6\n",
      "states, united, great, spain, government, power, treaty, law, vessel, article\n",
      "\n",
      "Topic  7\n",
      "state, government, united, public, states, congress, great, power, country, war\n",
      "\n",
      "Topic  8\n",
      "government, year, states, united, congress, country, law, state, great, people\n",
      "\n",
      "Topic  9\n",
      "year, america, people, work, american, new, world, job, country, help\n"
     ]
    }
   ],
   "source": [
    "display_topics(topics, count_vec.get_feature_names_out(), 10)"
   ]
  },
  {
   "cell_type": "code",
   "execution_count": 20,
   "metadata": {},
   "outputs": [],
   "source": [
    "X = tfidf_vec.fit_transform(docs_list_clean)"
   ]
  },
  {
   "cell_type": "code",
   "execution_count": 21,
   "metadata": {},
   "outputs": [],
   "source": [
    "doc_topic = topics.fit_transform(X)"
   ]
  },
  {
   "cell_type": "code",
   "execution_count": 22,
   "metadata": {},
   "outputs": [
    {
     "name": "stdout",
     "output_type": "stream",
     "text": [
      "\n",
      "Topic  0\n",
      "stacy, kayla, holet, rebecca, elyria, marcher, kent, allentown, scorekeeper, shouting\n",
      "\n",
      "Topic  1\n",
      "stacy, kayla, holet, rebecca, elyria, marcher, kent, allentown, scorekeeper, shouting\n",
      "\n",
      "Topic  2\n",
      "stacy, kayla, holet, rebecca, elyria, marcher, kent, allentown, scorekeeper, shouting\n",
      "\n",
      "Topic  3\n",
      "stacy, kayla, holet, rebecca, elyria, marcher, kent, allentown, scorekeeper, shouting\n",
      "\n",
      "Topic  4\n",
      "stacy, kayla, holet, rebecca, elyria, marcher, kent, allentown, scorekeeper, shouting\n",
      "\n",
      "Topic  5\n",
      "stacy, kayla, holet, rebecca, elyria, marcher, kent, allentown, scorekeeper, shouting\n",
      "\n",
      "Topic  6\n",
      "stacy, kayla, holet, rebecca, elyria, marcher, kent, allentown, scorekeeper, shouting\n",
      "\n",
      "Topic  7\n",
      "otto, kenton, cj, seong, licentiousness, indispensible, defence, vigilence, chearful, oeconomy\n",
      "\n",
      "Topic  8\n",
      "stacy, kayla, holet, rebecca, elyria, marcher, kent, allentown, scorekeeper, shouting\n",
      "\n",
      "Topic  9\n",
      "government, year, congress, united, states, people, country, great, nation, state\n"
     ]
    }
   ],
   "source": [
    "display_topics(topics, tfidf_vec.get_feature_names_out(), 10)"
   ]
  },
  {
   "cell_type": "code",
   "execution_count": 23,
   "metadata": {},
   "outputs": [],
   "source": [
    "doc_word = count_vec.fit_transform(docs_list_clean)\n",
    "words = list(np.asarray(count_vec.get_feature_names_out()))"
   ]
  },
  {
   "cell_type": "code",
   "execution_count": 24,
   "metadata": {},
   "outputs": [
    {
     "name": "stdout",
     "output_type": "stream",
     "text": [
      "WARNING: Some words never appear (or always appear)\n"
     ]
    },
    {
     "data": {
      "text/plain": [
       "<corextopic.corextopic.Corex at 0x16685f8b0>"
      ]
     },
     "execution_count": 24,
     "metadata": {},
     "output_type": "execute_result"
    }
   ],
   "source": [
    "topic_model = ct.Corex(n_hidden=10, words=words, seed=1)\n",
    "topic_model.fit(doc_word, words=words, docs=docs_list_clean)"
   ]
  },
  {
   "cell_type": "code",
   "execution_count": 25,
   "metadata": {},
   "outputs": [
    {
     "name": "stdout",
     "output_type": "stream",
     "text": [
      "0: postmaster,mail,commercial,commissioner,navy,furnish,suggestion,mexico,refer,judgment\n",
      "1: program,today,job,intercourse,vessel,budget,economic,goal,object,disposition\n",
      "2: worker,start,student,cut,middle,big,problem,americans,fight,dollar\n",
      "3: agricultural,advise,volume,enactment,limitation,requirement,revision,amend,chinese,arbitration\n",
      "4: nand,nwith,nwe,nwhich,nis,nwill,nby,nbe,nhave,nit\n",
      "5: association,response,wide,safeguard,outside,unit,aside,fear,item,corporation\n",
      "6: charge,situate,accept,manufacturer,violate,ecuador,trial,premium,naturalization,spare\n",
      "7: rule,vote,fall,invest,file,rival,opposition,pursuit,sign,criminal\n",
      "8: minded,physically,forefather,crossing,bespeak,null,seriousness,devoutly,marketing,deference\n",
      "9: human,science,tremendous,amazing,interim,spread,overwhelming,deliver,set,archive\n"
     ]
    }
   ],
   "source": [
    "topics = topic_model.get_topics()\n",
    "for n,topic in enumerate(topics):\n",
    "    topic_words,_,_ = zip(*topic)\n",
    "    print('{}: '.format(n) + ','.join(topic_words))"
   ]
  },
  {
   "cell_type": "code",
   "execution_count": 26,
   "metadata": {},
   "outputs": [
    {
     "data": {
      "text/plain": [
       "[('   madam speaker   madam vice president   lady gentleman   member congress cabinet   justice supreme court   fellow americans   year covid    keep apart   year finally   tonight   meet democrats republican independent   importantly americans   duty american people constitution   unwavering resolve freedom triumph tyranny   day ago   russia vladimir putin seek shake foundation free world thinking bend menacing way   badly miscalculate   think roll ukraine world roll   instead meet wall strength imagine   meet ukrainian people   president zelenskyy ukrainian   fearlessness   courage   determination   inspire world   group citizen block tank body   student retiree teacher turn soldier defend homeland   struggle president zelenskyy say speech european parliament light win darkness ukrainian ambassador united states tonight   let tonight chamber send unmistakable signal ukraine world   rise able   yes   united states america stand ukrainian people   history learn lesson dictator pay price aggression cause chaos    move   cost threat america world rise   nato alliance create secure peace stability europe world war     united states member    nation   matter   american diplomacy matter   american resolve matter   putin late attack ukraine premeditate unprovoke   reject repeat effort diplomacy   think west nato respond   think divide home   putin wrong   ready     prepare extensively carefully   spend month build coalition freedom love nation europe america asia africa confront putin   spend countless hour unify european ally   share world advance know putin plan precisely try falsely justify aggression    counter russia lie truth   act free world hold accountable   member european union include france   germany   italy   country like   united kingdom   canada   japan   korea   australia   new zealand     switzerland   inflict pain russia support people ukraine   putin isolate world   ally right enforce powerful economic sanction   cut russia large bank international financial system   prevent russia central bank defend russian ruble make putin     war fund worthless   choke russia access technology sap economic strength weaken military year come   tonight russian oligarchs corrupt leader bilk billion dollar violent regime   u s   department justice assemble dedicated task force crime russian oligarchs   join european ally find seize yacht luxury apartment private jet   come ill begotten gain   tonight announce join ally close american air space russian flight isolate russia add additional squeeze economy   ruble lose     value   russian stock market lose     value trading remains suspend   russia economy reel putin blame   ally provide support ukrainian fight freedom   military assistance   economic assistance   humanitarian assistance   give     direct assistance ukraine   continue aid ukrainian people defend country help ease suffering   let clear   force engage engage conflict russian force ukraine   force go europe fight ukraine   defend nato ally event putin decide move west   purpose mobilize american ground force   air squadron   ship deployment protect nato country include poland   romania   latvia   lithuania   estonia   crystal clear united states ally defend inch territory nato country force collective power   remain clear eyed   ukrainian fight pure courage   day week   month   hard   putin unleash violence chaos    gain battlefield pay continue high price long run   proud ukrainian people   know    year   independence   repeatedly show tolerate try country backwards   americans   honest   promise   russian dictator   invade foreign country   cost world   take robust action sure pain sanction   target russia economy   use tool disposal protect american business consumer   tonight   announce united states work    country release    barrel oil reserve world   america lead effort   release    barrel strategic petroleum reserve    stand ready necessary   unify ally   step help blunt gas price home   know news happen alarming   want know go okay   history era write putin war ukraine leave russia weak rest world strong   take terrible people world stake see clearly   unity leader nation unify europe unified west   unity people gather city large crowd world russia demonstrate support ukraine    battle democracy autocracy   democracy rise moment   world clearly choose peace security   real test   go time   let continue draw inspiration iron ukrainian people   fellow ukrainian americans forge deep bond connect nation stand   putin circle kyiv tank   gain heart soul ukrainian people   extinguish love freedom   weaken resolve free world   meet tonight america live hard year nation face   pandemic punish   family live paycheck paycheck   struggle rise cost food   gas   housing     understand   remember dad leave home scranton   pennsylvania find work   grow family price food go   feel   thing president fight pass american rescue plan   people hurt   need act     piece legislation critical moment history lift crisis   fuel effort vaccinate nation combat covid     deliver immediate economic relief ten million american    help food table   roof head   cut cost health insurance   dad   give people little breathing room   unlike     tax cut pass previous administration benefit     americans   american rescue plan help work people leave   work   create job   lot job   fact economy create      new job year   job create year history america   economy grow rate       year   strong growth nearly    year   step bring fundamental change economy work work people nation long   past    year tell give tax break   benefit trickle   trickle theory lead weak economic growth   low wage   big deficit   widest gap nearly century   vice president harris run office new economic vision america   invest america   educate americans   grow workforce   build economy middle     know middle class grow   poor ladder wealthy   america good road   bridge   airport earth   infrastructure rank    world   will able compete job    century fix   important pass bipartisan infrastructure law sweeping investment rebuild america history   bipartisan effort   want thank member party work happen   talk infrastructure week   go infrastructure decade   go transform america path win economic competition    century face rest world particularly china   tell xi jinping   good bet bet american people   create good job million americans   modernize road   airport   port   you america   withstand devastating effect climate crisis promote environmental justice   build national network      electric vehicle charge station   begin replace poisonous lead pipe child american clean water drink home school   provide affordable high speed internet american urban   suburban   rural   tribal community       project announce   tonight   announce year start fix      mile highway      bridge disrepair   use taxpayer dollar rebuild america go buy american   buy american product support american job   federal government spend     year country safe secure   law book century sure taxpayer dollar support american job business   administration say   actually   buy american sure deck aircraft carrier steel highway guardrail america   compete good job future   need level playing field china competitor   important pass bipartisan innovation act sit congress record investment emerge technology american manufacturing   let example important pass   travel    mile east columbus   ohio   find      acre land   will look like   stop look closely   field dream ground america future build   intel   american company helped build silicon valley   go build     semiconductor mega site   state art factory place       new good pay job   sophisticated manufacturing world computer chip size fingertip power world everyday life   smartphone   internet   technology invent   beginning   intel ceo   pat gelsinger   tonight   tell ready increase investment           big investment manufacturing american history   wait pass bill   let wait long   send desk   sign     intel   happen america   look amazing story   rebirth pride come stamp product america revitalization american manufacturing   company choose build new factory   year ago   build overseas   happen   ford invest     build electric vehicle   create      job country   gm make large investment history    build electric vehicle   create      job michigan   tell   create      new manufacturing job america year   power people meet like jojo burgess   generation union steelworker pittsburgh   tonight   ohio senator sherrod brown say   time bury label rust belt time   bright spot economy   record job growth high wage   family struggle bill   inflation rob gain feel     priority get price control   look   economy roar fast predict   pandemic mean business hard time hire worker production factory   pandemic disrupt global supply chain   factory close   take long good warehouse store   price   look car   year   semiconductor car people want buy   guess   price automobile go   choice   way fight inflation drive wage americans poor   well plan fight inflation   low cost   wage   car semiconductor america   infrastructure innovation america   good move fast cheap america   job earn good living america   instead rely foreign supply chain   let america   economist increase productive capacity economy build well america   plan fight inflation lower cost low deficit     nobel laureate economic plan ease long term inflationary pressure   business leader americans support plan   plan   cut cost prescription drug   look insulin   americans diabete   virginia   meet    year old boy name joshua davis   dad type    diabetes   mean need insulin day   insulin cost     vial   drug company charge family like joshua dad    time   speak joshua mom   imagine like look child need insulin idea go pay   dignity   ability look child eye   parent expect   joshua tonight   yesterday birthday   happy birthday   buddy   joshua        young people type    diabetes   let cap cost insulin     month afford   drug company   let medicare negotiate low price prescription drug   like va   look   american rescue plan help million family affordable care act plan save       year health care premium   let close coverage gap saving permanent   cut energy cost family average     year combat climate change   let provide investment tax credit weatherize home business energy efficient tax credit   double america clean energy production solar   wind     low price electric vehicle   save     month pay gas pump   cut cost child care   family pay       year child care child   middle class working family pay     income care young child   plan cut cost half family help parent   include million woman   leave workforce pandemic afford child care   able work   plan stop   include home long term care   affordable housing   pre k        year old   lower cost   plan   earn       year pay additional penny new taxis     thing americans agree tax system fair   fix   look punish   let sure corporation wealthy americans start pay fair share   year     fortune    corporation earn     profit pay dollar federal income tax   simply fair   propose     minimum tax rate corporation   get    country agree global minimum tax rate company pay taxis home ship job factory overseas   propose closing loophole wealthy pay low tax rate teacher firefighter   plan   grow economy low cost family   wait   let     confirm nominee federal reserve   play critical role fight inflation   plan low cost family fair shot   lower deficit   previous administration balloon deficit tax cut wealthy corporation   undermine watchdog job pandemic relief fund waste   administration   watchdog welcome   go criminal steal billion relief money mean small business million americans   tonight   announce justice department chief prosecutor pandemic fraud   end year   deficit half take office   president cut deficit dollar single year   lower cost mean demand competition   capitalist   capitalism competition capitalism   exploitation drive price   corporation compete   profit   price   small business family farmer rancher   happen ocean carrier move good america   pandemic   foreign own company raise price       record profit   tonight   announce crackdown company overcharge american business consumer   wall street firm nursing home   quality home go cost go   end watch   medicare go set high standard nursing home sure love one care deserve expect   cut cost economy go strong give worker fair shot   provide training apprenticeship   hire base skill degree   let pass paycheck fairness act pay leave   raise minimum wage     hour extend child tax credit   raise family poverty   let increase pell grant increase historic support hbcus   invest jill lady teach time call america good keep secret   community college   let pass pro act majority worker want form union stop   invest worker   build economy middle   long time   build well america   year   covid    impact decision life life nation   know tired   frustrate   exhaust   know   progress   resilience tool   tonight move forward safely   normal routine   reach new moment fight covid     severe case level see july   day ago   center disease control prevention cdc issue new mask guideline   new guideline   americans country mask free   base projection   country reach point couple week   thank progress past year   covid    need long control life   know talk live covid     tonight accept live covid     continue combat virus disease   virus mutate spread   stay guard   common sense step forward safely     stay protect vaccine treatments   know incredibly effective vaccine   vaccinate boost high degree protection   vaccinate american     know parent kid    eager vaccine authorize child   scientist work hard ready plenty vaccine   ready anti viral treatment   covid     pfizer pill reduce chance end hospital      order pill world   pfizer work overtime    pill month double month   launch test treat initiative people test pharmacy   positive   receive antiviral pill spot cost   immunocompromise vulnerability   treatment free high quality mask   leave ignore need forward   test   hundred million test available order free   order free test tonight   announce order covidtest gov start week   prepare new variant   past year   get well detect new variant   necessary   able deploy new vaccine    day instead month year     congress provide fund need   new stockpile test   mask   pill ready need   promise new variant will come   promise power ready   end shutdown school business   tool need   time americans work fill great downtown    people work home feel safe begin return office   federal government   vast majority federal worker work person   school open   let way   kid need school       adult americans fully vaccinate hospitalization      americans remove mask   return work   stay classroom   forward safely   achieve provide free vaccine   treatment   test   mask   course   continue cost money   soon send congress request   vast majority americans tool want   expect congress pass quickly     continue vaccinate world   send    vaccine dose    country   nation   will stop   lose covid     time   bad   loss life   let use moment reset   let stop look covid    partisan dividing line   god awful disease   let stop see enemy   start see   fellow americans   change divided   change forward covid    issue face   recently visit new york city police department day funeral officer wilbert mora partner   officer jason rivera   respond        man shoot kill steal gun   officer mora    year old   officer rivera     dominican americans grow street later choose patrol police officer   speak family tell forever debt sacrifice   carry mission restore trust safety community deserve   work issue long time   know work   invest crime prevention community police officer walk beat   know neighborhood   restore trust safety   let abandon street   choose safety equal justice   let come protect community   restore trust   hold law enforcement accountable   justice department require body camera   ban chokehold   restrict knock warrant officer   american rescue plan provide     citie   state   county use hire police invest prove strategy like community violence interruption trust messenger break cycle violence trauma give young people hope   agree   answer defund police   answer fund police resource training need protect community   ask democrats republicans alike   pass budget neighborhood safe   power crack gun trafficking ghost gun buy online home serial number trace   ask congress pass prove measure reduce gun violence   pass universal background check   terrorist list able purchase weapon   ban assault weapon high capacity magazine   repeal liability shield make gun manufacturer industry america sue   law infringe amendment   save life   fundamental right america right vote count   assault   state state   new law pass   suppress vote   subvert entire election   let happen   tonight   senate   pass freedom vote act   pass john lewis voting rights act     pass disclose act americans know fund election   tonight   like honor dedicate life serve country   justice stephen breyer army veteran   constitutional scholar   retire justice united states supreme court   justice breyer   thank service   constitutional responsibility president nominate serve united states supreme court      day ago   nominate circuit court appeals judge ketanji brown jackson   nation legal mind   continue justice breyer legacy excellence   litigator private practice   federal public defender   family public school educator police officer   consensus builder   nominate   receive broad range support fraternal order police judge appoint democrats republicans   advance liberty justice   need secure border fix immigration system     border   instal new technology like cut edge scanner well detect drug smuggling   set joint patrol mexico guatemala catch human trafficker   put place dedicated immigration judge family flee persecution violence case hear fast   secure commitment support partner south central america host refugee secure border   keeping light torch liberty lead generation immigrant land forefather   provide pathway citizenship dreamer   temporary status   farm worker   essential worker   revise law business worker need family wait decade reunite   right thing economically smart thing   immigration reform support labor union religious leader u s   chamber commerce   let   advance liberty justice require protect right woman   constitutional right affirm roe v   wade stand precedent half century attack   want forward backward protect access health care   preserve woman right choose   let continue advance maternal health care america   lgbtq   americans   let finally bipartisan equality act desk   onslaught state law target transgender americans family wrong   say year   especially young transgender americans   president   reach god give potential   appear agree   true   sign    bipartisan bill law year   prevent government shutdown protect asian americans common hate crime reform military justice   soon   strengthen violence woman act write decade ago   important nation come big thing   tonight offer unity agenda nation   big thing     beat opioid epidemic     increase funding prevention   treatment   harm reduction   recovery   rid outdated rule stop doctor prescribe treatment   stop flow illicit drug work state local law enforcement trafficker   suffer addiction   know   believe recovery   celebrate    americans recovery     let mental health   especially child   life education turn upside   american rescue plan give school money hire teacher help student lost learning   urge parent sure school   play sign tutor mentor   child struggle pandemic   bully   violence   trauma   harm social medium   france haugen   tonight   show   hold social medium platform accountable national experiment conduct child profit   time strengthen privacy protection   ban target advertising child   demand tech company stop collect personal datum child   let american mental health service need   people turn help   parity physical mental health care     support veteran   veteran good   believe sacred obligation equip send war care family come home   administration provide assistance job training housing   help low income veteran va care debt free   troop iraq afghanistan face danger   station basis breathe toxic smoke burn pit incinerate waste war medical hazard material   jet fuel     come home   world fit well train warrior   headache   numbness   dizziness   cancer flag drape coffin   know   soldier son major beau biden   know sure burn pit cause brain cancer   disease troop   committed find   commit military family like danielle robinson ohio   widow sergeant class heath robinson   bear soldier   army national guard   combat medic kosovo iraq   station near baghdad   yard burn pit size football field   heath widow danielle tonight   love go ohio state football game   love building legos daughter   cancer prolonged exposure burn pit ravage heath lung body   danielle say heath fighter end   know stop fight     pain find purpose demand well   tonight   danielle   va pioneer new way link toxic exposure disease   help veteran benefit   tonight   announce expand eligibility veteran suffer respiratory cancer   call congress   pass law sure veteran devastate toxic exposure iraq afghanistan finally benefit comprehensive health care deserve     let end cancer know   personal jill   kamala     cancer     cause death america heart disease   month   announce plan supercharge cancer moonshot president obama ask lead year ago   goal cut cancer death rate        year   turn cancer death sentence treatable disease   support patient family     congress fund arpa h   advanced research project agency health   base darpa defense department project lead internet   gps     arpa h singular purpose drive breakthrough cancer   alzheimer   diabetes     unity agenda nation     fellow americans tonight   gather sacred space citadel democracy   capitol   generation generation   americans debate great question amid great strife   great thing   fight freedom   expand liberty   defeat totalitarianism terror   build strong   free   prosperous nation world know   hour   moment responsibility   test resolve conscience   history   moment character form   purpose find   future forge   know nation    meet test   protect freedom liberty   expand fairness opportunity   save democracy   hard time   optimistic america today life   future grasp   know simply capacity   nation earth turn crisis face opportunity   nation define single word   possibility   night      year nation   come report state union   report   state union strong   american people   strong   strong today year ago   strong year today   moment meet overcome challenge time     people   america   united states america   god bless   god protect troop   ',\n",
       "  0.0),\n",
       " ('   senate house representative      constitution require president   shall   time time   congress information state union   recommend consideration measure shall judge necessary expedient    comply requirement wish emphasize past year nation continue grow strength   people advance comfort   gain knowledge   education youth widely spread   moral spiritual force maintain   peace assure   problem confront problem growth progress   solution determine fact   develop relative importance assign fact   formulate common judgment   realize solution spirit conciliation      foreign relation     peace world   foundation future peace substantially strengthen   promote peace long establish policy   kellogg briand pact great moral standard raise world   nation covenant renounce war settle dispute pacific mean   new world outlook inaugurate profoundly affect foreign policy nation   inauguration initiate new effort organization machinery peace eliminate dangerous force produce controversy nation      january      senate give consent adherence court international justice certain reservation   september year statute establish court   action nation signatory   amend meet senate s reservation reservation clear court true international court justice   believe clear controversy question country claim interest pass court consent time question arise   doubt advisory opinion completely safeguard   adherence international court   constitute   slight step entry league nation   indicate   shall direct signature affix protocol adherence shall submit approval senate special message time convenient deal    nin hope reduce friction world   desire reduce great economic burden naval armament   join conference great britain   france   italy   japan hold london january consider limitation reduction naval arm   hold high hope success attend effort      beginning present administration neighboring state mexico good domestic insurrection   maintain embargo shipment arm mexico permit duly constitute government procure supply surplus war stock   fortunately   mexican government strength successfully withstand insurrection slight damage   opportunity peaceful development give country   request mexican government   lift embargo shipment arm altogether   government take step promote friendly relationship solve difference   convention prolong period year life general special claim commission conclude      south america proud settlement long stand dispute chile peru disposal question tacna arica      work commission inquiry conciliation bolivia paraguay   representative government participate   successfully terminate incident threaten war   propose plan final settlement suggest neutral government consideration      government continue effort act mediator boundary difficulty guatemala hondura      instance profound importance establish good inauguration regular air mail service united states caribbean   central american   south american country      marine foreign soil nicaragua   haiti   china   large sense wish represent abroad manner        marine remain nicaragua urgent request government leader party pende training domestic constabulary capable insure tranquility   reduce force materially anxious withdraw situation warrant   haiti    marines   difficult problem   solution obscure   congress approve   shall dispatch commission haiti review study matter endeavor arrive definite policy present   force china constitute      man   hope reduce normal legation guard      desire establish firmly understanding relationship latin american country strengthen diplomatic mission country   hope secure man long experience diplomatic service   speak language people accredit   chief diplomatic mission state   shall send senate early date nomination man      congress numerous wise foresighte act past year greatly strengthen character representation abroad   liberal provision establishment suitable quarter foreign staff different country   order     develop effective force   responsible function government   shall recommend congress liberal appropriation work state department   know expenditure public money great economic moral return come assure effective conduct foreign relation      national defense     preserve internal order freedom encroachment purpose government   army navy maintain efficient state officer high intelligence zeal   extent expansion number equipment present authorize ample purpose      deeply concerned     grow expense   total expenditure national defense purpose             naturally rise great war   recede             begin rise current fiscal year expenditure reach          exclude civilian service department   program authorize carry large figure future year   remuneration pay soldier sailor justly high rate country world   cost subsistence high   total expenditure excess highly militarized nation world      conference shortly hold london depend moderation naval expenditure   shall compel undertake naval construction imply washington arm treaty construction appear necessary international agreement complete   shall commit year construction expenditure upward           necessary increase cost annual upkeep         army contingent necessarily expand end great war recede low point     expansion begin      officer man regular force   army navy                           citizen   army     include national guard form reserve   increase total                               kellogg pact undertake use war instrument national policy       undertake covenant use equipment solely defensive purpose   defense point view force proportion national need     extent modify prospect peace   bright day      bear mind improvement national guard federal support begin    definitely strengthen national security render far effective heretofore   advance aviation greatly increase effectiveness defense   addition large program air force maintain army navy   enormous growth commercial aviation   provide unanticipated reserve manufacturing capacity industrial air personnel   add security      recommend congress earnest consideration possibility prudent action relief continuously mount expenditure      finance government     finance government sound condition   shall submit detailed evidence usual recommendation special budget message       summarize position   public debt june    year stand            compare maximum august                 june    reduce          budget submit total appropriation recommend fiscal year               compare           present fiscal year   present fiscal year     include         federal farm board   estimate determine        owe necessary burden assume congress previous year require large outlay   extreme difficulty shall able expenditure fiscal year bound present year   economy direction permit accommodation press need   net result increase   show      cent present fiscal year   fail recognize obligation government support public welfare coincidentally bear mind burden taxis strive find relief tax reduction   dollar return fertilize soil prosperity      tax   reduction     estimate submit secretary treasury budget director indicate government close fiscal year    surplus         fiscal year    surplus          owe unusual circumstance   extremely difficult estimate future revenue accuracy      believe     congress fully justify give benefit prospective surplus taxpayer   particularly ample provision debt reduction year form debt retirement ordinary revenue   view uncertainty respect future revenue comparatively small size indicate surplus     relief form provisional revision tax rate      recommend normal income tax rate applicable income individual calendar year    reduce           ½ cent          ½ cent   tax income corporation calendar year    reduce       cent   estimate result reduction         income taxis collect calendar year     loss revenue divide approximately equally fiscal year        program measure tax relief maximum number taxpayer   relatively large benefit taxpayer small moderate income      foreign debt     past year bring near completion settlement indebtedness foreign government united states      act congress approve february        authorize settlement government austria line similar term settlement offer government relief creditor   agreement conclude government   form agreement settle execution await government austria secure assent relief creditor term offer   act congress approve february        authorize settlement government greece   agreement conclude           government france ratify agreement july        agreement shortly congress recommend approval      indebtedness foreign government united states unsettle russia armenia      past year committee distinguished expert american leadership submit plan look revision claim germany government   united states deny participation war settlement general reparation claim comparatively small   arise cost army occupation claim private citizen loss award mixed claim commission establish agreement german government   find basis settlement necessary committee expert request government concern contribution adjustment feel share proportion concession      state treasury department position shortly submit consideration draft agreement execute united states germany provide payment revise amount   extensive statement submit time      total indebtedness country united states fund            sum effect provide issue united states government bond people   payment government account principal interest    estimate total                                  measure american compromise settlement appreciate fact taxpayer call find annually         interest addition redeem principal sum borrow united states government purpose      alien enemy property     wise determination property seize war return owner proceed considerable rapidity   original seize cash property   value total                   return   remainder dispose year      general economic situation     country enjoy large degree prosperity sound progress past year steady improvement method production distribution consequent advancement standard live   progress   course   unequal industry     coal   lumber   leather   textile   lag   long upward trend fundamental progress     give rise optimism profit   translate wave uncontrolled speculation security   result diversion capital business stock market inevitable crash   natural consequence reduction consumption luxury semi necessity meet loss   number person throw temporarily employment   price agricultural product deal great market affect sympathy stock crash      fortunately   federal reserve system take measure strengthen position day speculation break   strong position bank carry credit system crisis impairment   capital hitherto absorb stock market loan speculative purpose return normal channel business   inflation price commodity   undue accumulation good   foreign trade expand magnitude exert steadying influence activity industry employment      sudden threat unemployment especially recollection economic consequence previous crash secure financial system create unwarranted pessimism fear   recall past storm similar character result retrenchment construction   reduction wage   lay worker   natural result tendency business agency country pause plan proposal continuation extension business   hesitation unchecked intensify depression widespread unemployment suffering          institute systematic   voluntary measure cooperation business institution state municipal authority certain fundamental business country shall continue usual   wage consume power shall reduce   special effort shall expand construction work order assist equalize deficit employment   enlarged sense cooperation responsibility grow business world past year response remarkable satisfactory   canvass federal government institute measure prudent expansion work helpful   different department early recommendation congress      convinced measure reestablish confidence   wage remain stable   large degree industrial unemployment suffering occur prevent   agricultural price reflect return confidence   measure take vigorously pursue normal condition restore      agriculture     agricultural situation improve   gross farm income estimate department agriculture crop season                                                 estimate basis price harvest value      crop            slight decline general commodity price past year naturally assist farmer   buying power      number farmer bankruptcy materially decrease previous year   decline land value arrest rate movement farm city reduce   section agriculture   course   fare equally   area suffer drought   responsible farm leader assure large measure confidence return agriculture feeling optimism pervade industry      extensive action strengthen agricultural industry take government inaugurate farm marketing act june      provision federal farm board establish   comprise man long widely experience agriculture sponsor farm organization country   short period existence board take definite step efficient organization agriculture   elimination waste marketing   upbuilding farmer   marketing organization sounder efficient line   substantial headway organization basic commodity grain   cotton   livestock   wool   support board cooperative marketing organization board activity undoubtedly serve steady farmer   market recent crisis operate great stimulus cooperative organization agriculture   problem industry complex   need sound organization imperative   board move rapidly line lay act   facilitate creation farmer farmer own farmer control organization federate central institution   view increase bargaining power agriculture   prevent control surplus   mobilize economic power agriculture      tariff     special session congress call expedite fulfillment party pledge agricultural relief tariff   pledge farm relief carry   time state principle believe action take respect tariff      condition arise view change principle state opening special session   firmly opinion application pende revision country kind tariff law need want   helpful action take early moment   especially time business agriculture cooperate minimize future uncertainty   know rate    neven limited revision require consideration readjustment item   exhaustive inquiry valuable debate man representative part country need determine detailed rate necessarily accomplish congress   perfectly rate structure frame give time   shifting economic force inevitably occur render change item desirable necessarily long interval congressional revision   injustice bind develop   experience dairyman   flaxseed producer   glass industry        rate   reason   anxious broad principle flexible tariff provide exist law preserve delay action avoid expeditious method determine cost production home abroad   executive authority promulgate change recommendation tariff commission exhaustive investigation   change congress isolated item refer unlikely concentration opposition country   advantage industry state   difficulty limit consideration congress isolated case      fundamental conflict interest farmer worker   lowering standard living tend destroy   prosperity rest   real conflict east west north south united states   complete interlocking economic dependence   common striving social spiritual progress   common heritage americans   infinite web national sentiment   create solidarity great people unparalleled human history   invisible bond shatter difference opinion grow discussion tariff      public building     provision act congress         authorize public building land construct           district columbia         country large   exclude         acquisition land call   triangle   city   public building legislation provide year program district columbia year program country large   sum approximately         expend june              expend district         outside      generous provision district columbia country insufficient press governmental need   expensive rent inadequate facility extravagance economy   district completion project shall fully      clerk house rented temporary war building little long      recommend consideration give extension authorization country large district columbia distribute term year   survey need category secretary treasury postmaster general   helpful present economic situation step take enable early construction work      expedition enlargement program district bring direct economy construction enable erection building regular sequence   maintain stable labor force city   contract advantageous term      early completion program acknowledge need add dignity celebration    anniversary birth president washington      consideration project contribute dignify national capital like renew suggestion fine art commission require pass private building propose site face public building park   control effort congress beautification capital minimize      waterway flood control     development inland waterway receive new impulse completion year canalization ohio uniform    foot depth   development segment mississippi system expedite view recommend increase appropriation river harbor                 annum           annum release completion ohio   available provide river harbor work sum                 annum mississippi system bring early completion      conflict opinion arise propose floodway arkansas river gulf mexico atchafalaya river lead withhold construction portion mississippi flood control plan review engineer recommendation congress   portion project vigorously prosecute recommend increase appropriation         present year         fiscal year      expansion intracoastal waterway effective barge depth warrant   await action canada st   lawrence waterway project      highway            mile legally establish highway united states      cent include state highway system   remainder county local road        mile improve type surface   comprise    cent state highway system    cent local road   improved road      mile hard surface   comprise    cent state highway system    cent local road      proper planning materially reduce list mileage public road   particularly agricultural district   turn road useful purpose   evident road construction long continue program   progress improvement      mile type annum        mile durable type   total expenditure federal   state   local government year construction maintenance assume huge total               federal aid construction highway system conjunction state prove beneficial stimulate   ultimately consideration increase contribution system   particularly view stimulate improvement farm market road      post office     post office deficit increase         year           loss ocean mail air mail contract   department make exhaustive study source deficit view later recommendation congress respect      post office quarter provide federal construction   form rent lease arrangement   practice grow recent year contract long term lease rent amortization principal cost building include   advise fully    cent save rent lease agreement allow interest capital require normal government rate   objectionable feature practice   provision adequate quarter post office sound basis      revision air mail rate systematic permanent footing necessary   subject study   legislation prove necessary subject present congress   meantime recommend congress consider desirability authorize expansion south american service      commercial aviation     past year progress civil aeronautic remarkable   considerable degree wise assistance federal government establishment maintenance airway department commerce mail contract post office department   government improve airway exceed      mile      mile light equip night fly operation close current year   airport construction state extremely active        commercial municipal airport operation additional      propose early development      assistance nation build sound aviation system   operate private enterprise        plane commercial use        pilot license government   manufacturing capacity rise      plane annum   aviation company increase regular air transportation total      mile day fly night   mail express service connect principal city   extensive service passenger transportation inaugurate   importance imminent   american air line reach canada mexico   cuba   porto rico   central america   important country south america      railway       railroad good physical financial condition   country serve   great volume freight traffic tender carry speed attain satisfaction shipper   efficiency new method result reduction cost provide freight transportation   freight rate continuous descend line level enforce world war    nwe     assure future adequate system transportation consolidation objective congress transportation act   chief purpose consolidation secure balanced system uniform satisfactory rate structure   stable financial structure   equitable distribution traffic   great efficiency   single line instead multiple line haul   way country assurance well service ultimately low rate attain   legislation simplify expedite consolidation method well protect public interest enact      consideration give relief member commission necessity detailed attention comparatively inconsequential matter   exist law   receive direct personal consideration   public interest member commission press minor matter inadequate time investigation consideration large question commit solution   minor matter   function commission revisory   primary responsibility delegate subordinate official practice long vogue executive department      merchant marine     impulse merchant marine act    transfer private enterprise government own steamship line go forward increase success   shipping board operate    line   half number originally establish   estimate expenditure come fiscal year base reduction loss government line approximately half   construction loan approximately         revolving fund authorize congress furnish additional aid american shipping stimulate building vessel american yard      desirous secure value nation great effort develop merchant marine merchant marine act soon inauguration present administration   appoint interdepartmental committee   consist secretary commerce   chairman   secretary navy   postmaster general   chairman shipping board   survey policy pursue act    respect mail contract   inquire working advise postmaster general administration act      particular necessary determine result contract let assure purpose express act    develop american merchant marine   assure permanence transportation foreign trade united states   purpose    develop coordinate policy purpose translate actuality      review mail contract award find aggregate    separate award impose governmental obligation little         annum   provision impose contract construction new vessel replace expand service   requirement come total    vessel    year period   aggregate      ton   condition contract work satisfactorily      study substantially complete committee advise desirability necessity secure large undertaking service new construction future contract   committee time recommend advertising    additional route   make substantial requirement construction new vessel life contract recommend   total    new vessel require contract propose   half require build year   capital cost new construction approximately          involve approximately      gross ton   bidder find undertaking   necessary recommend congress increase authorized expenditure post office         annually   advantageous grant authority      conflict administration act arise contention person purchase shipping board vessel entitle mail contract irrespective low bidder   post office   hand   require law let contract manner   urgent congress clarify situation      banking system     desirable congress consider revision portion banking law      development   group     chain   banking present new problem   question naturally arise allow expand restraint method dangerously concentrate control credit   event seriously threaten fundamental american credit system credit base banking deposit control person area furnish deposit subject restraint local interest public opinion area   degree     movement chain group banking groping strong support bank secure basis institution      growth size stability metropolitan bank marked contrast trend country district   failure loss failure impose agricultural community      relinquishment charter national bank great commercial center favor state charter indicate condition surround national bank render unable compete state bank   withdrawal result weaken national banking system      propose permission grant national bank engage branch banking nature preserve limited region local responsibility control credit institution      subject     require careful investigation   find advantageous create joint commission embrace member congress appropriate federal official subsequent report      electrical power regulation     federal power commission comprise cabinet officer   duty involve competent conduct grow responsibility commission far exceed time attention official properly afford important duty   recommend authority give appointment time commissioner replace      desirable authority commission extend certain phase power regulation   nature electric utility industry    cent power generation distribution intrastate character   state develop regulatory system certificate convenience   rate   profit utility   encroach authority responsibility encroachment right state   case     interstate character jurisdiction state   meet case desirable method work initial action take commission state joint action effective federal power commission reserve act motion case disagreement nonaction state      radio commission     recommend reorganization radio commission permanent body present temporary status   requirement present law commissioner shall appoint specify zone abolish general provision equitable selection different part country   despite effort commissioner   present method develop public insistence commissioner specially charge supervision radio affair zone appoint   result danger system degenerate national system regional agency vary practice   vary policy   competitive tendency   consequent failure attain utmost capacity service people      muscle shoal     desirable question dispose   present condition income plant secure use   especially public secure benefit obtain      belief part plant useful revenue remainder dedicate time farmer united states investigation experimentation commercial scale agricultural chemistry   mean advance discovery science systematically apply agricultural need   development chemical industry tennessee valley assure      favor operation government power manufacturing business unavoidable product major public purpose      form settlement question imply enter contract contract lease plant part reservation facility   product   income agricultural purpose   extremely technical involve nature contract deal chemical electrical enterprise   add unusual difficulty surround special plant   rapid commercial change progress power synthetic nitrogen manufacture   lead suggest congress create special commission   investigate report past   authority negotiate complete sort contract contract behalf government   subject   course   general requirement congress stipulate      boulder dam     secretary interior make satisfactory progress negotiation complex contract require sale power generate project   contract assure return government outlay project   recommend necessary fund appropriate initiation work soon contract hand congress      conservation     conservation national resource fix policy government   important question bear conservation public land urgent      conservation oil gas resource future need national necessity   working oil permit system development oil gas resource public domain subject great abuse   consider necessary suspend issuance permit direct review outstanding permit compliance holder law   purpose end abuse place government position review entire subject      confront major problem conservation overgrazing public land   effect overgraze   general   destroy range impair ground coverage seriously menace water supply part west quick run   spring flood   autumn drought      problem major dimension reconsideration reclamation policy   inclusion available land public domain exist plan reclamation project largely complete original purpose reclamation service   remain necessity extensive storage water arid state render desirable wide vision purpose service      provide careful consideration question well division responsibility state federal government   include possible transfer state school purpose land unreserve forest   park   power   minerals   etc    appoint commission conservation public domain   membership represent major public land state time public large   recommend congress authorize moderate sum defray expense      social service     federal government provide extensive valuable program constructive social service   education   home building   protection woman child   employment   public health   recreation   direction      broad sense federal activity direction confine research dissemination information experience   temporary subsidy state order secure uniform advancement practice method   attitude federal government undermine precious possession american people     local individual responsibility   adhere policy      federal official     important contribution leadership stimulation community voluntary agency   extend federal assistance organization force bring cooperation      instance character   recently   cooperation secretary interior labor   lay foundation exhaustive inquiry fact precedent nation wide white house conference child health protection   cooperative movement interested agency impose expense government   similar nation wide conference call connection well housing recreation later date      view considerable difference opinion policy pursue federal government respect education   appoint committee representative important educational association investigate present recommendation   cooperation secretary interior   appoint voluntary committee distinguished membership assist nation wide movement abolition illiteracy      recommend additional appropriation federal employment service order fully cover cooperative work state local service   recommend additional appropriation woman s child s bureaus need research fact feel prove helpful      public health     advance scientific discovery disease health impose new consideration   nation vitally interested health people   protection spread contagious disease   relation physical mental disability criminality   economic moral advancement fundamentally associate sound body mind   organization preventive measure health education personal application province public health service   organization universal public education   support proper burden taxpayer   organize success   sanitary educational phase   public authority   base local state responsibility   consider federal government obligation contribution establishment agency      practical working organization   exhaustive experiment trial demonstrate base competent organization municipality   county   local unit   municipality    rural county      unit organization   highly develop   health unit comprise physician   sanitary engineer   community nurse addition   case   nurse devote problem maternity child   organization give fundamental control preventive measure assist community instruction   federal government   interest control contagion   act united states public health service state agency   past future concern development   particularly rural section unfortunately far progress   part fund contribute sheppard towner act child s bureau department labor find way channel      recommend congress purpose sheppard towner act continue child s bureau limited period year   congress consider desirability confine use federal fund state building county local unit   outlay positively coordinate fund expend united states public health service direct phase county local unit organization   fund appropriate course apply state   public health program county local unit efficiently coordinate state      federal prison     closely relate crime condition administration federal prison system   federal penal institution overcrowded   condition daily bad   parole probation system inadequate   condition impossible perform work personal reconstruction prisoner prepare return duty citizenship   order relieve press evil direct temporary transfer army disciplinary barrack leavenworth department justice use federal prison   temporary inadequate present need      need new federal prison reorganization probation parole system   establish department justice bureau prison sufficient force deal adequately grow activity prison institution   authorization improvement give speedily   initial appropriation allow construction new institution undertake      immigration     restriction immigration aspect prove sound national policy   press problem formulate method limited number immigrant welcome shall adapt national setting national need      oppose basis quota force hope find practical method secure believe real national objective     fitness immigrant physique   character   training   need service   system priority quota produce result time enable hardship present system clear   recommend congress subject study   executive department gladly cooperate hope discover method fully secure national necessity      veteran     policy government inception provision man disable defense country   policy maintain   originally take form land grant pension   system continue entry world war   congress time inaugurate new plan compensation   rehabilitation   hospitalization   medical care treatment   insurance   benefit award veteran immediate dependent disability attributable war service   basic principle legislation sound      desire eliminate possibility injustice difficulty establish service connection disability   principle degree extend   veteran disease injury apparent brief period war receive compensation   insurance benefit liberalize   emergency officer receive additional benefit   door government s hospital open veteran   disease injury result war service   addition adjusted service certificate issue        veteran   mean expenditure nearly               addition         appropriate annually veteran   relief      administration law concern veteran dependent basis deal generously   humanely   justly   inequality arise   substantial adequate care give justice administer   improvement administration require amendment time time law   care take change conform basic principle legislation      convinced gain efficiency   economy   uniform administration well definition national policy pension bureau   national home volunteer soldier   veteran   bureau bring single agency   total appropriation agency exceed         annum      civil service     approximately fifth employee executive civil service occupy position subject competitive examination civil service law          command opportunity extend system   opportunity lie province congress president   recommend step take authorization appointment class postmaster civil service law      departmental reorganization     subject consideration    year   promise political party recent campaign   repeatedly examine committee commission congressional   executive   voluntary   conclusion investigation unanimous reorganization necessity sound administration   economy   effective governmental policy relief citizen unnecessary harassment relation multitude scatter governmental agency   presentation specific plan enlivens opposition official authority curtail fear position imperil result   bureaus department wish maintain authority activity   citizen organization selfishly interested   inspire fear favorite bureau   new setting   subject influence subject influence      essential principle reorganization number     administrative activity major purpose place group single head responsibility     executive administrative function separate board commission place individual responsibility   quasi legislative quasi judicial broadly advisory function remove individual authority assign board commission     fundamental principle government found   principle adhere development business structure   distillation common sense generation      instance   conservation national resource spread agency department   suffer conflict overlap   proper development adherence broad national policy central point searchlight public opinion concentrate   function group direction official assistant secretary conservation   particular department cabinet officer group place secondary importance need concentration   say educational service   merchant marine aids   public work   public health   veteran   service     component part widely scatter department independent agency   desirable experience different group action create new department   necessary later      background previous experience hope development sound reorganization government congress willing delegate authority problem   subject define principle   executive   act approval joint committee congress reservation power revision congress limited period adequate consideration      prohibition     duty president oath office secure enforcement law   enforcement law enact effect amendment far satisfactory inadequate organization administrative agency federal government   hope expedite reorganization   request june    congress appoint joint committee collaborate executive agency preparation legislation   helpful appoint   subject earnestly consider law enforcement commission administrative official government   joint conclusion certain step take     immediate concentration responsibility strengthening enforcement agency federal government transfer department justice federal function detection considerable degree prosecution   lodge prohibition bureau treasury   time control distribution industrial alcohol legalized beverage remain treasury     provision relief congestion federal court modify simplify procedure deal large volume petty prosecution federal act     codification law relate prohibition avoid necessity exist resort    statute enact time    year   technical defect statute disclose cure   add recommendation desirability reorganize service engage prevention smuggling border patrol coast guard   recommendation subject develop examination law enforcement commission   expect criminal law fully enforce long criminal exist      district columbia model city law enforcement nation   condition well city   far perfect   congestion criminal case supreme court district   result long delay   furthermore   need legislation district supplement national prohibition act   sharply define enlarge duty power district commissioner police district   open way well cooperation enforcement prohibition district official prohibition officer federal government   urgent condition remedied      law enforcement observance     look satisfaction volume crime kind growth organize crime country   press need organize system administer criminal justice establish vigor effectiveness   need reestablish faith high interest country serve insistence swift hand administration justice offender   rich poor   shall effect improvement vital preservation institution   issue people      authority congress appoint national commission law observance enforcement   exhaustive study entire problem enforcement law improvement judicial system   include special problem abuse grow prohibition law   commission invite wide inquiry shortcoming administration justice cause remedy   organize work subcommittee deal contributory cause situation enlist aid investigator field require special consideration   confident result study carry forward notable contribution solution press problem      pende legislation   department justice strive weed inefficiency exist   stimulate activity prosecute officer   use increase care examine qualification appoint serve prosecutor   department seek systematically strengthen law enforcement agency week week month month   dramatic display steady pressure   removal negligent official encouragement assistance vigilant   course effort reveal district cause contribute congestion criminal docket   delay inefficiency prosecution   lack sufficient force office united states attorney   clerk court   marshal   condition tend clog machinery justice   conference senior circuit judge take note indorse department s proposal improvement   increase appropriation necessary ask order reenforce office      orderly administration law involve mere machinery law enforcement   efficient use machinery spirit people support law alike essential   need improvement   perfect mechanism   citizen dependent law protection hold dear   shall insist select particular law obey   undermine safety country   attitude obscure   conceal   ugly truth lawbreaker     enemy society   long gloss unpleasant reality vital consciousness citizen   condone traffic crime   indifferent punishment criminal   lax performance official duty   effective agency breakdown society      law rise source good citizenship right minded man earnestly believe desire   law uphold government official   law end   law people   theirs right work repeal   repeal equal duty observe demand enforcement      gratify awakening sense responsibility citizen past month   gratify instance occur refute cynicism assert system convict defy law possess mean resist execution   thing reveal moral awakening people official lie foundation rule law      conclusion     test rightfulness decision sustain advance ideal american people   self government foundation local government   justice individual group   order liberty   freedom domination   open opportunity equality opportunity   initiative individuality people   prosperity lessening poverty   freedom public opinion   education   advancement knowledge   growth religious spirit   tolerance faith   foundation home advancement peace   ',\n",
       "  0.0)]"
      ]
     },
     "execution_count": 26,
     "metadata": {},
     "output_type": "execute_result"
    }
   ],
   "source": [
    "topic_model.get_top_docs(topic=4, n_docs=2)"
   ]
  },
  {
   "cell_type": "code",
   "execution_count": 27,
   "metadata": {},
   "outputs": [
    {
     "data": {
      "text/html": [
       "<div>\n",
       "<style scoped>\n",
       "    .dataframe tbody tr th:only-of-type {\n",
       "        vertical-align: middle;\n",
       "    }\n",
       "\n",
       "    .dataframe tbody tr th {\n",
       "        vertical-align: top;\n",
       "    }\n",
       "\n",
       "    .dataframe thead th {\n",
       "        text-align: right;\n",
       "    }\n",
       "</style>\n",
       "<table border=\"1\" class=\"dataframe\">\n",
       "  <thead>\n",
       "    <tr style=\"text-align: right;\">\n",
       "      <th></th>\n",
       "      <th>topic0</th>\n",
       "      <th>topic1</th>\n",
       "      <th>topic2</th>\n",
       "      <th>topic3</th>\n",
       "      <th>topic4</th>\n",
       "      <th>topic5</th>\n",
       "      <th>topic6</th>\n",
       "      <th>topic7</th>\n",
       "      <th>topic8</th>\n",
       "      <th>topic9</th>\n",
       "    </tr>\n",
       "  </thead>\n",
       "  <tbody>\n",
       "    <tr>\n",
       "      <th>0</th>\n",
       "      <td>False</td>\n",
       "      <td>True</td>\n",
       "      <td>False</td>\n",
       "      <td>False</td>\n",
       "      <td>False</td>\n",
       "      <td>False</td>\n",
       "      <td>False</td>\n",
       "      <td>False</td>\n",
       "      <td>True</td>\n",
       "      <td>False</td>\n",
       "    </tr>\n",
       "    <tr>\n",
       "      <th>1</th>\n",
       "      <td>False</td>\n",
       "      <td>False</td>\n",
       "      <td>False</td>\n",
       "      <td>False</td>\n",
       "      <td>False</td>\n",
       "      <td>False</td>\n",
       "      <td>False</td>\n",
       "      <td>False</td>\n",
       "      <td>True</td>\n",
       "      <td>False</td>\n",
       "    </tr>\n",
       "    <tr>\n",
       "      <th>2</th>\n",
       "      <td>False</td>\n",
       "      <td>False</td>\n",
       "      <td>False</td>\n",
       "      <td>False</td>\n",
       "      <td>False</td>\n",
       "      <td>False</td>\n",
       "      <td>False</td>\n",
       "      <td>False</td>\n",
       "      <td>True</td>\n",
       "      <td>False</td>\n",
       "    </tr>\n",
       "    <tr>\n",
       "      <th>3</th>\n",
       "      <td>False</td>\n",
       "      <td>False</td>\n",
       "      <td>False</td>\n",
       "      <td>False</td>\n",
       "      <td>False</td>\n",
       "      <td>False</td>\n",
       "      <td>False</td>\n",
       "      <td>False</td>\n",
       "      <td>True</td>\n",
       "      <td>False</td>\n",
       "    </tr>\n",
       "    <tr>\n",
       "      <th>4</th>\n",
       "      <td>False</td>\n",
       "      <td>False</td>\n",
       "      <td>False</td>\n",
       "      <td>False</td>\n",
       "      <td>False</td>\n",
       "      <td>False</td>\n",
       "      <td>False</td>\n",
       "      <td>False</td>\n",
       "      <td>True</td>\n",
       "      <td>False</td>\n",
       "    </tr>\n",
       "    <tr>\n",
       "      <th>...</th>\n",
       "      <td>...</td>\n",
       "      <td>...</td>\n",
       "      <td>...</td>\n",
       "      <td>...</td>\n",
       "      <td>...</td>\n",
       "      <td>...</td>\n",
       "      <td>...</td>\n",
       "      <td>...</td>\n",
       "      <td>...</td>\n",
       "      <td>...</td>\n",
       "    </tr>\n",
       "    <tr>\n",
       "      <th>215</th>\n",
       "      <td>False</td>\n",
       "      <td>True</td>\n",
       "      <td>True</td>\n",
       "      <td>False</td>\n",
       "      <td>False</td>\n",
       "      <td>False</td>\n",
       "      <td>False</td>\n",
       "      <td>False</td>\n",
       "      <td>True</td>\n",
       "      <td>True</td>\n",
       "    </tr>\n",
       "    <tr>\n",
       "      <th>216</th>\n",
       "      <td>False</td>\n",
       "      <td>True</td>\n",
       "      <td>True</td>\n",
       "      <td>False</td>\n",
       "      <td>False</td>\n",
       "      <td>False</td>\n",
       "      <td>False</td>\n",
       "      <td>False</td>\n",
       "      <td>False</td>\n",
       "      <td>False</td>\n",
       "    </tr>\n",
       "    <tr>\n",
       "      <th>217</th>\n",
       "      <td>False</td>\n",
       "      <td>True</td>\n",
       "      <td>True</td>\n",
       "      <td>False</td>\n",
       "      <td>True</td>\n",
       "      <td>True</td>\n",
       "      <td>False</td>\n",
       "      <td>True</td>\n",
       "      <td>True</td>\n",
       "      <td>True</td>\n",
       "    </tr>\n",
       "    <tr>\n",
       "      <th>218</th>\n",
       "      <td>False</td>\n",
       "      <td>True</td>\n",
       "      <td>True</td>\n",
       "      <td>False</td>\n",
       "      <td>True</td>\n",
       "      <td>False</td>\n",
       "      <td>False</td>\n",
       "      <td>False</td>\n",
       "      <td>True</td>\n",
       "      <td>True</td>\n",
       "    </tr>\n",
       "    <tr>\n",
       "      <th>219</th>\n",
       "      <td>False</td>\n",
       "      <td>True</td>\n",
       "      <td>True</td>\n",
       "      <td>False</td>\n",
       "      <td>True</td>\n",
       "      <td>False</td>\n",
       "      <td>True</td>\n",
       "      <td>False</td>\n",
       "      <td>True</td>\n",
       "      <td>True</td>\n",
       "    </tr>\n",
       "  </tbody>\n",
       "</table>\n",
       "<p>220 rows × 10 columns</p>\n",
       "</div>"
      ],
      "text/plain": [
       "     topic0  topic1  topic2  topic3  topic4  topic5  topic6  topic7  topic8  \\\n",
       "0     False    True   False   False   False   False   False   False    True   \n",
       "1     False   False   False   False   False   False   False   False    True   \n",
       "2     False   False   False   False   False   False   False   False    True   \n",
       "3     False   False   False   False   False   False   False   False    True   \n",
       "4     False   False   False   False   False   False   False   False    True   \n",
       "..      ...     ...     ...     ...     ...     ...     ...     ...     ...   \n",
       "215   False    True    True   False   False   False   False   False    True   \n",
       "216   False    True    True   False   False   False   False   False   False   \n",
       "217   False    True    True   False    True    True   False    True    True   \n",
       "218   False    True    True   False    True   False   False   False    True   \n",
       "219   False    True    True   False    True   False    True   False    True   \n",
       "\n",
       "     topic9  \n",
       "0     False  \n",
       "1     False  \n",
       "2     False  \n",
       "3     False  \n",
       "4     False  \n",
       "..      ...  \n",
       "215    True  \n",
       "216   False  \n",
       "217    True  \n",
       "218    True  \n",
       "219    True  \n",
       "\n",
       "[220 rows x 10 columns]"
      ]
     },
     "execution_count": 27,
     "metadata": {},
     "output_type": "execute_result"
    }
   ],
   "source": [
    "predictions = pd.DataFrame(topic_model.predict(doc_word), columns=['topic'+str(i) for i in range(10)])\n",
    "predictions"
   ]
  },
  {
   "cell_type": "code",
   "execution_count": null,
   "metadata": {},
   "outputs": [],
   "source": []
  }
 ],
 "metadata": {
  "interpreter": {
   "hash": "eeda09e8682780dc1dbad7711462886786ede58877e15e2f55a2f4f20b8e3e86"
  },
  "kernelspec": {
   "display_name": "Python 3.9.7 ('metis')",
   "language": "python",
   "name": "python3"
  },
  "language_info": {
   "codemirror_mode": {
    "name": "ipython",
    "version": 3
   },
   "file_extension": ".py",
   "mimetype": "text/x-python",
   "name": "python",
   "nbconvert_exporter": "python",
   "pygments_lexer": "ipython3",
   "version": "3.9.7"
  },
  "orig_nbformat": 4
 },
 "nbformat": 4,
 "nbformat_minor": 2
}
