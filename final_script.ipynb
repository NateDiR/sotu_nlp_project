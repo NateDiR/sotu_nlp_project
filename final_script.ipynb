{
 "cells": [
  {
   "cell_type": "code",
   "execution_count": 1,
   "metadata": {},
   "outputs": [],
   "source": [
    "%reset -fs"
   ]
  },
  {
   "cell_type": "code",
   "execution_count": 47,
   "metadata": {},
   "outputs": [],
   "source": [
    "import pandas as pd\n",
    "import numpy as np\n",
    "import string\n",
    "import re\n",
    "import spacy\n",
    "from sklearn.feature_extraction import text \n",
    "from sklearn.feature_extraction.text import CountVectorizer, TfidfVectorizer\n",
    "from sklearn.decomposition import TruncatedSVD, LatentDirichletAllocation\n",
    "from corextopic import corextopic as ct\n",
    "from corextopic import vis_topic as vt\n",
    "from matplotlib import pyplot as plt\n",
    "import joblib\n",
    "from dask.distributed import Client\n",
    "\n",
    "%matplotlib inline"
   ]
  },
  {
   "cell_type": "code",
   "execution_count": null,
   "metadata": {},
   "outputs": [],
   "source": [
    "client = Client(processes=False)\n"
   ]
  },
  {
   "cell_type": "code",
   "execution_count": 3,
   "metadata": {},
   "outputs": [],
   "source": [
    "stop_words = text.ENGLISH_STOP_WORDS.union(['nof', 'nthe', 'nand', 'nto', 'nin', 'nit', 'nfor', 'na', 'nthat', 'nbe', 'applause', 'nwhich', 'nis', 'nare', 'ni', 'nnot', 'nby', 'nhave', 'nbut', 'nwe', 'nwith', 'nfrom', 'nwill', 'nhas', 'nan', 'nif', 'nour'])"
   ]
  },
  {
   "cell_type": "code",
   "execution_count": 4,
   "metadata": {},
   "outputs": [
    {
     "data": {
      "text/html": [
       "<div>\n",
       "<style scoped>\n",
       "    .dataframe tbody tr th:only-of-type {\n",
       "        vertical-align: middle;\n",
       "    }\n",
       "\n",
       "    .dataframe tbody tr th {\n",
       "        vertical-align: top;\n",
       "    }\n",
       "\n",
       "    .dataframe thead th {\n",
       "        text-align: right;\n",
       "    }\n",
       "</style>\n",
       "<table border=\"1\" class=\"dataframe\">\n",
       "  <thead>\n",
       "    <tr style=\"text-align: right;\">\n",
       "      <th></th>\n",
       "      <th>President</th>\n",
       "      <th>Year</th>\n",
       "      <th>Title</th>\n",
       "      <th>Text</th>\n",
       "    </tr>\n",
       "  </thead>\n",
       "  <tbody>\n",
       "    <tr>\n",
       "      <th>0</th>\n",
       "      <td>George Washington</td>\n",
       "      <td>1790</td>\n",
       "      <td>First State of the Union Address</td>\n",
       "      <td>['I embrace with great satisfaction the opport...</td>\n",
       "    </tr>\n",
       "    <tr>\n",
       "      <th>1</th>\n",
       "      <td>George Washington</td>\n",
       "      <td>1790</td>\n",
       "      <td>Second State of the Union Address</td>\n",
       "      <td>['Fellow-Citizens of the Senate and the House ...</td>\n",
       "    </tr>\n",
       "    <tr>\n",
       "      <th>2</th>\n",
       "      <td>George Washington</td>\n",
       "      <td>1791</td>\n",
       "      <td>Third State of the Union Address</td>\n",
       "      <td>['Fellow-Citizens of the Senate and the House ...</td>\n",
       "    </tr>\n",
       "    <tr>\n",
       "      <th>3</th>\n",
       "      <td>George Washington</td>\n",
       "      <td>1792</td>\n",
       "      <td>Fourth State of the Union Address</td>\n",
       "      <td>['Fellow-Citizens of the Senate and of the Hou...</td>\n",
       "    </tr>\n",
       "    <tr>\n",
       "      <th>4</th>\n",
       "      <td>George Washington</td>\n",
       "      <td>1793</td>\n",
       "      <td>Fifth State of the Union Address</td>\n",
       "      <td>['Fellow Citizens of the Senate and of the Hou...</td>\n",
       "    </tr>\n",
       "    <tr>\n",
       "      <th>...</th>\n",
       "      <td>...</td>\n",
       "      <td>...</td>\n",
       "      <td>...</td>\n",
       "      <td>...</td>\n",
       "    </tr>\n",
       "    <tr>\n",
       "      <th>215</th>\n",
       "      <td>Barack Obama</td>\n",
       "      <td>2016</td>\n",
       "      <td>Barack Obama's Eighth State of the Union Address</td>\n",
       "      <td>['Mr. Speaker, Mr. Vice President, Members of ...</td>\n",
       "    </tr>\n",
       "    <tr>\n",
       "      <th>216</th>\n",
       "      <td>Donald Trump</td>\n",
       "      <td>2017</td>\n",
       "      <td>Donald Trump's First State of the Union Address</td>\n",
       "      <td>['Mr. Speaker, Mr. Vice President, Members of ...</td>\n",
       "    </tr>\n",
       "    <tr>\n",
       "      <th>217</th>\n",
       "      <td>Donald Trump</td>\n",
       "      <td>2018</td>\n",
       "      <td>Donald Trump's Second State of the Union Address</td>\n",
       "      <td>['Mr. Speaker, Mr. Vice President, Members of ...</td>\n",
       "    </tr>\n",
       "    <tr>\n",
       "      <th>218</th>\n",
       "      <td>Donald Trump</td>\n",
       "      <td>2019</td>\n",
       "      <td>Donald Trump's Third State of the Union Address</td>\n",
       "      <td>['Madam Speaker, Mr. Vice President, Members o...</td>\n",
       "    </tr>\n",
       "    <tr>\n",
       "      <th>219</th>\n",
       "      <td>Joe Biden</td>\n",
       "      <td>2022</td>\n",
       "      <td>Joe Biden's First State of The Union Address</td>\n",
       "      <td>['Madam Speaker, Madam Vice President, our Fir...</td>\n",
       "    </tr>\n",
       "  </tbody>\n",
       "</table>\n",
       "<p>220 rows × 4 columns</p>\n",
       "</div>"
      ],
      "text/plain": [
       "             President  Year  \\\n",
       "0    George Washington  1790   \n",
       "1    George Washington  1790   \n",
       "2    George Washington  1791   \n",
       "3    George Washington  1792   \n",
       "4    George Washington  1793   \n",
       "..                 ...   ...   \n",
       "215       Barack Obama  2016   \n",
       "216       Donald Trump  2017   \n",
       "217       Donald Trump  2018   \n",
       "218       Donald Trump  2019   \n",
       "219          Joe Biden  2022   \n",
       "\n",
       "                                                Title  \\\n",
       "0                    First State of the Union Address   \n",
       "1                   Second State of the Union Address   \n",
       "2                    Third State of the Union Address   \n",
       "3                   Fourth State of the Union Address   \n",
       "4                    Fifth State of the Union Address   \n",
       "..                                                ...   \n",
       "215  Barack Obama's Eighth State of the Union Address   \n",
       "216   Donald Trump's First State of the Union Address   \n",
       "217  Donald Trump's Second State of the Union Address   \n",
       "218   Donald Trump's Third State of the Union Address   \n",
       "219      Joe Biden's First State of The Union Address   \n",
       "\n",
       "                                                  Text  \n",
       "0    ['I embrace with great satisfaction the opport...  \n",
       "1    ['Fellow-Citizens of the Senate and the House ...  \n",
       "2    ['Fellow-Citizens of the Senate and the House ...  \n",
       "3    ['Fellow-Citizens of the Senate and of the Hou...  \n",
       "4    ['Fellow Citizens of the Senate and of the Hou...  \n",
       "..                                                 ...  \n",
       "215  ['Mr. Speaker, Mr. Vice President, Members of ...  \n",
       "216  ['Mr. Speaker, Mr. Vice President, Members of ...  \n",
       "217  ['Mr. Speaker, Mr. Vice President, Members of ...  \n",
       "218  ['Madam Speaker, Mr. Vice President, Members o...  \n",
       "219  ['Madam Speaker, Madam Vice President, our Fir...  \n",
       "\n",
       "[220 rows x 4 columns]"
      ]
     },
     "execution_count": 4,
     "metadata": {},
     "output_type": "execute_result"
    }
   ],
   "source": [
    "df = pd.read_csv('sotu_texts.csv')\n",
    "df"
   ]
  },
  {
   "cell_type": "code",
   "execution_count": 5,
   "metadata": {},
   "outputs": [],
   "source": [
    "alphanumeric = lambda x: re.sub('\\w*\\d\\w*', ' ', x)\n",
    "punc_lower = lambda x: re.sub('[%s]' % re.escape(string.punctuation), ' ', x.lower())\n",
    "\n",
    "df['Text'] = df.Text.map(alphanumeric).map(punc_lower)"
   ]
  },
  {
   "cell_type": "code",
   "execution_count": 6,
   "metadata": {},
   "outputs": [],
   "source": [
    "nlp = spacy.load(\"en_core_web_sm\")\n",
    "docs = nlp.pipe(df.Text)"
   ]
  },
  {
   "cell_type": "code",
   "execution_count": 7,
   "metadata": {},
   "outputs": [],
   "source": [
    "docs_clean = [[w.lemma_.lower() for w in doc if (not w.is_stop and not w.is_punct and not w.like_num)] for doc in docs]\n",
    "df['docs_clean'] = docs_clean"
   ]
  },
  {
   "cell_type": "code",
   "execution_count": 8,
   "metadata": {},
   "outputs": [],
   "source": [
    "docs_list_clean = [' '.join(doc) for doc in docs_clean]\n"
   ]
  },
  {
   "cell_type": "code",
   "execution_count": 9,
   "metadata": {},
   "outputs": [],
   "source": [
    "count_vec = CountVectorizer(stop_words=stop_words, ngram_range=(1,3), min_df=1, max_df=220)\n",
    "X = count_vec.fit_transform(docs_list_clean)"
   ]
  },
  {
   "cell_type": "code",
   "execution_count": 10,
   "metadata": {},
   "outputs": [],
   "source": [
    "num_topics = 10\n",
    "topics = TruncatedSVD(num_topics)\n",
    "doc_topic = topics.fit_transform(X)"
   ]
  },
  {
   "cell_type": "code",
   "execution_count": 11,
   "metadata": {},
   "outputs": [],
   "source": [
    "topic_word = pd.DataFrame(topics.components_.round(3),\n",
    "             columns = count_vec.get_feature_names_out())"
   ]
  },
  {
   "cell_type": "code",
   "execution_count": 12,
   "metadata": {},
   "outputs": [],
   "source": [
    "def display_topics(model, feature_names, no_top_words, topic_names=None):\n",
    "    for ix, topic in enumerate(model.components_):\n",
    "        if not topic_names or not topic_names[ix]:\n",
    "            print(\"\\nTopic \", ix)\n",
    "        else:\n",
    "            print(\"\\nTopic: '\",topic_names[ix],\"'\")\n",
    "        print(\", \".join([feature_names[i]\n",
    "                        for i in topic.argsort()[:-no_top_words - 1:-1]]))"
   ]
  },
  {
   "cell_type": "code",
   "execution_count": 13,
   "metadata": {},
   "outputs": [
    {
     "name": "stdout",
     "output_type": "stream",
     "text": [
      "\n",
      "Topic  0\n",
      "government, year, congress, united, states, united states, country, state, great, law\n",
      "\n",
      "Topic  1\n",
      "program, year, world, new, work, need, help, nation, america, federal\n",
      "\n",
      "Topic  2\n",
      "program, dollar, year, fiscal, united, fiscal year, war, expenditure, states, united states\n",
      "\n",
      "Topic  3\n",
      "man, dollar, law, business, service, department, court, legislation, national, expenditure\n",
      "\n",
      "Topic  4\n",
      "administration, energy, policy, states, effort, provide, united states, international, development, area\n",
      "\n",
      "Topic  5\n",
      "year, american, america, work, report, department, secretary, tonight, job, united states\n",
      "\n",
      "Topic  6\n",
      "mexico, war, united, united states, states, american, texas, peace, mexican, army\n",
      "\n",
      "Topic  7\n",
      "department, mexico, american, government, court, congress, canal, tariff, bank, foreign\n",
      "\n",
      "Topic  8\n",
      "mexico, country, texas, public, mexican, year, land, law, increase, work\n",
      "\n",
      "Topic  9\n",
      "world, free, great, nation, peace, communist, present, defense, war, measure\n"
     ]
    }
   ],
   "source": [
    "display_topics(topics, count_vec.get_feature_names_out(), 10)"
   ]
  },
  {
   "cell_type": "code",
   "execution_count": 14,
   "metadata": {},
   "outputs": [],
   "source": [
    "tfidf_vec = TfidfVectorizer(stop_words=stop_words, ngram_range=(1,3), min_df=1, max_df=220)\n",
    "X = tfidf_vec.fit_transform(docs_list_clean)"
   ]
  },
  {
   "cell_type": "code",
   "execution_count": 15,
   "metadata": {},
   "outputs": [],
   "source": [
    "doc_topic = topics.fit_transform(X)"
   ]
  },
  {
   "cell_type": "code",
   "execution_count": 16,
   "metadata": {},
   "outputs": [
    {
     "name": "stdout",
     "output_type": "stream",
     "text": [
      "\n",
      "Topic  0\n",
      "government, year, congress, united, states, united states, country, people, great, state\n",
      "\n",
      "Topic  1\n",
      "america, job, tonight, help, world, program, americans, year, new, people\n",
      "\n",
      "Topic  2\n",
      "program, economic, federal, world, problem, national, increase, nation, development, need\n",
      "\n",
      "Topic  3\n",
      "nation, world, war, program, peace, soviet, object, state, union, united\n",
      "\n",
      "Topic  4\n",
      "man, great, interstate, law, corporation, commerce, war, good, interstate commerce, public\n",
      "\n",
      "Topic  5\n",
      "world, war, soviet, united, fight, free, man, states, united states, united nations\n",
      "\n",
      "Topic  6\n",
      "state, constitution, mexico, people, war, texas, union, kansas, president, shall\n",
      "\n",
      "Topic  7\n",
      "iraq, terrorist, mexico, iraqi, terror, government, america, al, regime, saddam\n",
      "\n",
      "Topic  8\n",
      "bank, public, world, country, silver, debt, gold, measure, free, treasury\n",
      "\n",
      "Topic  9\n",
      "vietnam, democracy, congress, people, child, government, america, nation, help, state\n"
     ]
    }
   ],
   "source": [
    "display_topics(topics, tfidf_vec.get_feature_names_out(), 10)"
   ]
  },
  {
   "cell_type": "code",
   "execution_count": 17,
   "metadata": {},
   "outputs": [],
   "source": [
    "topics = LatentDirichletAllocation(n_components=num_topics, )"
   ]
  },
  {
   "cell_type": "code",
   "execution_count": 18,
   "metadata": {},
   "outputs": [],
   "source": [
    "X = count_vec.fit_transform(docs_list_clean)"
   ]
  },
  {
   "cell_type": "code",
   "execution_count": 19,
   "metadata": {},
   "outputs": [],
   "source": [
    "doc_topic = topics.fit_transform(X)"
   ]
  },
  {
   "cell_type": "code",
   "execution_count": 20,
   "metadata": {},
   "outputs": [
    {
     "name": "stdout",
     "output_type": "stream",
     "text": [
      "\n",
      "Topic  0\n",
      "century, social security, save social, save social security, saddam, community, iraq, leadership, historic responsibility, century america\n",
      "\n",
      "Topic  1\n",
      "government, country, law, year, great, public, congress, increase, man, people\n",
      "\n",
      "Topic  2\n",
      "government, states, united, united states, congress, state, country, year, great, public\n",
      "\n",
      "Topic  3\n",
      "year, people, work, nation, government, new, american, war, world, congress\n",
      "\n",
      "Topic  4\n",
      "government, year, congress, united, states, united states, country, great, state, law\n",
      "\n",
      "Topic  5\n",
      "state, constitution, legislature, slave, union, specific, election, specific duty, constitutional, sovereign\n",
      "\n",
      "Topic  6\n",
      "bank, credit, emergency, competitive, past year, decrease, bond, depression, board, railway\n",
      "\n",
      "Topic  7\n",
      "america, world, new, people, year, american, nation, great, americans, tonight\n",
      "\n",
      "Topic  8\n",
      "year, government, congress, people, united, nation, country, states, united states, world\n",
      "\n",
      "Topic  9\n",
      "government, year, people, country, great, american, congress, nation, law, united\n"
     ]
    }
   ],
   "source": [
    "display_topics(topics, count_vec.get_feature_names_out(), 10)"
   ]
  },
  {
   "cell_type": "code",
   "execution_count": 21,
   "metadata": {},
   "outputs": [],
   "source": [
    "X = tfidf_vec.fit_transform(docs_list_clean)"
   ]
  },
  {
   "cell_type": "code",
   "execution_count": 22,
   "metadata": {},
   "outputs": [],
   "source": [
    "doc_topic = topics.fit_transform(X)"
   ]
  },
  {
   "cell_type": "code",
   "execution_count": 23,
   "metadata": {},
   "outputs": [
    {
     "name": "stdout",
     "output_type": "stream",
     "text": [
      "\n",
      "Topic  0\n",
      "government, year, congress, united, people, states, country, united states, great, nation\n",
      "\n",
      "Topic  1\n",
      "public investigation, viet nam, nam, viet, employment budget, let share, situation europe, cairo teheran, mr hull, nuclear defense\n",
      "\n",
      "Topic  2\n",
      "crude oil, markwell, surplus capacity, powerplant, send great, war send great, send great britain, prisoner war send, railway manager, growth federal\n",
      "\n",
      "Topic  3\n",
      "ukrainian, covid, putin, axis, south vietnam, great society, hat, reconstruction finance corporation, reconstruction finance, ukrainian people\n",
      "\n",
      "Topic  4\n",
      "isil, megan, ryan, jamiel, obamacare, term plan, oliver, susan, jenna, dollar overseas\n",
      "\n",
      "Topic  5\n",
      "industrial recovery, hard work freedom, work freedom, private employment, industrial recovery act, national industrial recovery, national industrial, dollar nation, religion democracy, alien enemy\n",
      "\n",
      "Topic  6\n",
      "autocracy, decree france, suspension embargo, policy good neighbor, soviet troop, policy good, selfish power, true today, north atlantic treaty, atlantic treaty\n",
      "\n",
      "Topic  7\n",
      "hitler, gentleman house representative, gentleman house, year shall produce, iraqis, hopeful society, senate gentleman house, senate gentleman, alice, shall produce\n",
      "\n",
      "Topic  8\n",
      "iraqis, shia, baghdad, pillar, otto, steven, lebanon, loss damage sustain, child leave act, isis\n",
      "\n",
      "Topic  9\n",
      "nation income, deception long deceive, long deceive, deception long, low pay, visa, nman, department prepare secretary, estimate expense ensue, expense ensue\n"
     ]
    }
   ],
   "source": [
    "display_topics(topics, tfidf_vec.get_feature_names_out(), 10)"
   ]
  },
  {
   "cell_type": "code",
   "execution_count": 24,
   "metadata": {},
   "outputs": [],
   "source": [
    "doc_word = count_vec.fit_transform(docs_list_clean)\n",
    "words = list(np.asarray(count_vec.get_feature_names_out()))"
   ]
  },
  {
   "cell_type": "code",
   "execution_count": 25,
   "metadata": {},
   "outputs": [
    {
     "name": "stdout",
     "output_type": "stream",
     "text": [
      "WARNING: Some words never appear (or always appear)\n"
     ]
    },
    {
     "data": {
      "text/plain": [
       "<corextopic.corextopic.Corex at 0x162bb00a0>"
      ]
     },
     "execution_count": 25,
     "metadata": {},
     "output_type": "execute_result"
    }
   ],
   "source": [
    "topic_model = ct.Corex(n_hidden=10, words=words, seed=1)\n",
    "topic_model.fit(doc_word, words=words, docs=docs_list_clean, anchors=[['economy', 'job', 'work', 'program', 'employment'], ['manufacturing', 'production', 'build', 'commerce', 'business', 'farmer', 'agriculture', 'crop', 'private business', 'farm', 'land'], ['government', 'america', 'american', 'people', 'constitution', 'country', 'congress', 'united', 'states', 'people', 'nation', 'federal', 'state'], ['money', 'expenditure', 'tax', 'fiscal', 'treasury', 'stimulus', 'income', 'dollar', 'currency', 'tariff', 'debt', 'cent', 'bank', 'home'], ['protest', 'race', 'movement', 'strike', 'black', 'indian', 'latino', 'slave', 'civil','right','liberty', 'immigration', 'mexico', 'dreamer', 'citizenship'], ['germany', 'france', 'spain', 'nato', 'europe', 'hitler', 'japan', 'japanese', 'nazi', 'putin', 'ukraine', 'korea', 'soviet', 'ukraine', 'british', 'cuba', 'venezuela', 'iran', 'china', 'russia', 'canada', 'war', 'fight', 'vietnam', 'alliance', 'adversary', 'enemy', 'international', 'german', 'navy', 'military', 'troop', 'sea power', 'admiral', 'general', 'iraqi', 'iraq', 'insurgent', 'terrorist', 'saddam', 'kuwait', 'syria', 'israel', 'panama', 'army', 'peace', 'afghanistan', 'al qaeda', 'taliban', 'islamic', 'defense', 'treaty'], ['energy', 'atomic', 'renewable', 'oil', 'research', 'science', 'innovation', 'cyber', 'space', 'moon', 'rocket', 'cancer', 'health', 'industrial', 'covid', 'pandemic'], ['law', 'order', 'court', 'crime', 'gang', 'police', 'safe', 'gun', 'sedition', 'communist', 'communism'], ['legislation', 'congress', 'action', 'service', 'provide'], ['people', 'great', 'new', 'opportunity', 'providence', 'sacrifice', 'favor', 'fate', 'purpose', 'hardship', 'endure', 'overcome']], anchor_strength=2)"
   ]
  },
  {
   "cell_type": "code",
   "execution_count": 26,
   "metadata": {},
   "outputs": [
    {
     "name": "stdout",
     "output_type": "stream",
     "text": [
      "0: program,job,budget,goal,today,economic,economy,help,speaker,basic\n",
      "1: agriculture,crop,production,reduction,farm,farmer,business,recommendation,organization,agricultural\n",
      "2: federal,america,suspicion,turkey,battle,thrift,people,grave,enlist,federal jurisdiction\n",
      "3: cent,fiscal,currency,tariff,treasury,judgment,confer,national bank,commend,suggestion\n",
      "4: protest,mexico,civil,american citizen,equity,movement,impossible,frequently,march,central\n",
      "5: china,troop,russia,passenger,meridian,work department,position united states,position united,panama,litigation\n",
      "6: money spend,cancer,raise minimum,clean energy,raise minimum wage,research,friendly relation country,detect,work hand,oil\n",
      "7: police,gun,soul,break,gang,uranium,trap,state act,fighting,daring\n",
      "8: legislation,action,available,large,needful,responsibility,productive capacity,possible,irritation,assume\n",
      "9: public land,favor,north,successful,washington,attributable,separate,admit,opportunity,prove\n"
     ]
    }
   ],
   "source": [
    "topics = topic_model.get_topics()\n",
    "for n,topic in enumerate(topics):\n",
    "    topic_words,_,_ = zip(*topic)\n",
    "    print('{}: '.format(n) + ','.join(topic_words))"
   ]
  },
  {
   "cell_type": "code",
   "execution_count": 50,
   "metadata": {},
   "outputs": [
    {
     "data": {
      "text/html": [
       "<div>\n",
       "<style scoped>\n",
       "    .dataframe tbody tr th:only-of-type {\n",
       "        vertical-align: middle;\n",
       "    }\n",
       "\n",
       "    .dataframe tbody tr th {\n",
       "        vertical-align: top;\n",
       "    }\n",
       "\n",
       "    .dataframe thead th {\n",
       "        text-align: right;\n",
       "    }\n",
       "</style>\n",
       "<table border=\"1\" class=\"dataframe\">\n",
       "  <thead>\n",
       "    <tr style=\"text-align: right;\">\n",
       "      <th></th>\n",
       "      <th>topic0</th>\n",
       "      <th>topic1</th>\n",
       "      <th>topic2</th>\n",
       "      <th>topic3</th>\n",
       "      <th>topic4</th>\n",
       "      <th>topic5</th>\n",
       "      <th>topic6</th>\n",
       "      <th>topic7</th>\n",
       "      <th>topic8</th>\n",
       "      <th>topic9</th>\n",
       "    </tr>\n",
       "  </thead>\n",
       "  <tbody>\n",
       "    <tr>\n",
       "      <th>0</th>\n",
       "      <td>-4154.626053</td>\n",
       "      <td>-741.373215</td>\n",
       "      <td>-421.404408</td>\n",
       "      <td>-4755.323743</td>\n",
       "      <td>-8363.257236</td>\n",
       "      <td>-1956.191807</td>\n",
       "      <td>-188.021688</td>\n",
       "      <td>-653.499084</td>\n",
       "      <td>-373.289886</td>\n",
       "      <td>-1398.062571</td>\n",
       "    </tr>\n",
       "    <tr>\n",
       "      <th>1</th>\n",
       "      <td>-5248.441580</td>\n",
       "      <td>-738.821442</td>\n",
       "      <td>-434.990948</td>\n",
       "      <td>-4729.211617</td>\n",
       "      <td>-8351.076316</td>\n",
       "      <td>-1940.667574</td>\n",
       "      <td>-159.300166</td>\n",
       "      <td>-659.276767</td>\n",
       "      <td>-380.433264</td>\n",
       "      <td>-1375.232822</td>\n",
       "    </tr>\n",
       "    <tr>\n",
       "      <th>2</th>\n",
       "      <td>-8716.290278</td>\n",
       "      <td>-771.581917</td>\n",
       "      <td>-480.548199</td>\n",
       "      <td>-4628.843038</td>\n",
       "      <td>-8344.027847</td>\n",
       "      <td>-1961.058730</td>\n",
       "      <td>-316.700289</td>\n",
       "      <td>-754.483079</td>\n",
       "      <td>-404.151471</td>\n",
       "      <td>-1323.670827</td>\n",
       "    </tr>\n",
       "    <tr>\n",
       "      <th>3</th>\n",
       "      <td>-7842.563055</td>\n",
       "      <td>-749.249114</td>\n",
       "      <td>-473.345939</td>\n",
       "      <td>-4678.868381</td>\n",
       "      <td>-8302.944617</td>\n",
       "      <td>-1957.891061</td>\n",
       "      <td>-310.216482</td>\n",
       "      <td>-744.921538</td>\n",
       "      <td>-413.681256</td>\n",
       "      <td>-1397.785204</td>\n",
       "    </tr>\n",
       "    <tr>\n",
       "      <th>4</th>\n",
       "      <td>-803.169950</td>\n",
       "      <td>-779.991293</td>\n",
       "      <td>0.000000</td>\n",
       "      <td>-4668.374906</td>\n",
       "      <td>-8317.655350</td>\n",
       "      <td>-1945.777918</td>\n",
       "      <td>0.000000</td>\n",
       "      <td>-721.079665</td>\n",
       "      <td>-397.458738</td>\n",
       "      <td>-1318.185730</td>\n",
       "    </tr>\n",
       "    <tr>\n",
       "      <th>...</th>\n",
       "      <td>...</td>\n",
       "      <td>...</td>\n",
       "      <td>...</td>\n",
       "      <td>...</td>\n",
       "      <td>...</td>\n",
       "      <td>...</td>\n",
       "      <td>...</td>\n",
       "      <td>...</td>\n",
       "      <td>...</td>\n",
       "      <td>...</td>\n",
       "    </tr>\n",
       "    <tr>\n",
       "      <th>215</th>\n",
       "      <td>0.000000</td>\n",
       "      <td>-801.838442</td>\n",
       "      <td>0.000000</td>\n",
       "      <td>-4687.851906</td>\n",
       "      <td>-8315.092543</td>\n",
       "      <td>0.000000</td>\n",
       "      <td>0.000000</td>\n",
       "      <td>0.000000</td>\n",
       "      <td>-390.867997</td>\n",
       "      <td>-1359.446966</td>\n",
       "    </tr>\n",
       "    <tr>\n",
       "      <th>216</th>\n",
       "      <td>0.000000</td>\n",
       "      <td>-849.211107</td>\n",
       "      <td>0.000000</td>\n",
       "      <td>-4653.597713</td>\n",
       "      <td>0.000000</td>\n",
       "      <td>0.000000</td>\n",
       "      <td>-203.298360</td>\n",
       "      <td>0.000000</td>\n",
       "      <td>0.000000</td>\n",
       "      <td>-1357.686847</td>\n",
       "    </tr>\n",
       "    <tr>\n",
       "      <th>217</th>\n",
       "      <td>0.000000</td>\n",
       "      <td>-821.942005</td>\n",
       "      <td>-397.764586</td>\n",
       "      <td>-4650.762223</td>\n",
       "      <td>-8331.899758</td>\n",
       "      <td>-1949.774242</td>\n",
       "      <td>-411.497171</td>\n",
       "      <td>0.000000</td>\n",
       "      <td>-354.395220</td>\n",
       "      <td>0.000000</td>\n",
       "    </tr>\n",
       "    <tr>\n",
       "      <th>218</th>\n",
       "      <td>0.000000</td>\n",
       "      <td>-831.811356</td>\n",
       "      <td>0.000000</td>\n",
       "      <td>-4650.933497</td>\n",
       "      <td>-8315.360127</td>\n",
       "      <td>0.000000</td>\n",
       "      <td>0.000000</td>\n",
       "      <td>0.000000</td>\n",
       "      <td>-418.724612</td>\n",
       "      <td>-1339.472366</td>\n",
       "    </tr>\n",
       "    <tr>\n",
       "      <th>219</th>\n",
       "      <td>0.000000</td>\n",
       "      <td>0.000000</td>\n",
       "      <td>-358.528069</td>\n",
       "      <td>-4759.245706</td>\n",
       "      <td>-8317.839600</td>\n",
       "      <td>0.000000</td>\n",
       "      <td>0.000000</td>\n",
       "      <td>-678.581199</td>\n",
       "      <td>0.000000</td>\n",
       "      <td>-1379.224748</td>\n",
       "    </tr>\n",
       "  </tbody>\n",
       "</table>\n",
       "<p>220 rows × 10 columns</p>\n",
       "</div>"
      ],
      "text/plain": [
       "          topic0      topic1      topic2       topic3       topic4  \\\n",
       "0   -4154.626053 -741.373215 -421.404408 -4755.323743 -8363.257236   \n",
       "1   -5248.441580 -738.821442 -434.990948 -4729.211617 -8351.076316   \n",
       "2   -8716.290278 -771.581917 -480.548199 -4628.843038 -8344.027847   \n",
       "3   -7842.563055 -749.249114 -473.345939 -4678.868381 -8302.944617   \n",
       "4    -803.169950 -779.991293    0.000000 -4668.374906 -8317.655350   \n",
       "..           ...         ...         ...          ...          ...   \n",
       "215     0.000000 -801.838442    0.000000 -4687.851906 -8315.092543   \n",
       "216     0.000000 -849.211107    0.000000 -4653.597713     0.000000   \n",
       "217     0.000000 -821.942005 -397.764586 -4650.762223 -8331.899758   \n",
       "218     0.000000 -831.811356    0.000000 -4650.933497 -8315.360127   \n",
       "219     0.000000    0.000000 -358.528069 -4759.245706 -8317.839600   \n",
       "\n",
       "          topic5      topic6      topic7      topic8       topic9  \n",
       "0   -1956.191807 -188.021688 -653.499084 -373.289886 -1398.062571  \n",
       "1   -1940.667574 -159.300166 -659.276767 -380.433264 -1375.232822  \n",
       "2   -1961.058730 -316.700289 -754.483079 -404.151471 -1323.670827  \n",
       "3   -1957.891061 -310.216482 -744.921538 -413.681256 -1397.785204  \n",
       "4   -1945.777918    0.000000 -721.079665 -397.458738 -1318.185730  \n",
       "..           ...         ...         ...         ...          ...  \n",
       "215     0.000000    0.000000    0.000000 -390.867997 -1359.446966  \n",
       "216     0.000000 -203.298360    0.000000    0.000000 -1357.686847  \n",
       "217 -1949.774242 -411.497171    0.000000 -354.395220     0.000000  \n",
       "218     0.000000    0.000000    0.000000 -418.724612 -1339.472366  \n",
       "219     0.000000    0.000000 -678.581199    0.000000 -1379.224748  \n",
       "\n",
       "[220 rows x 10 columns]"
      ]
     },
     "execution_count": 50,
     "metadata": {},
     "output_type": "execute_result"
    }
   ],
   "source": [
    "predictions = pd.DataFrame(topic_model.log_p_y_given_x, columns=['topic'+str(i) for i in range(10)])\n",
    "predictions"
   ]
  },
  {
   "cell_type": "code",
   "execution_count": 28,
   "metadata": {},
   "outputs": [
    {
     "name": "stdout",
     "output_type": "stream",
     "text": [
      "Print topics in text file\n"
     ]
    }
   ],
   "source": [
    "vt.vis_rep(topic_model, column_label=words, prefix='topic-model-example')"
   ]
  },
  {
   "cell_type": "code",
   "execution_count": 48,
   "metadata": {},
   "outputs": [
    {
     "data": {
      "image/png": "[encoded data removed]",
      "text/plain": [
       "<Figure size 720x360 with 1 Axes>"
      ]
     },
     "metadata": {
      "needs_background": "light"
     },
     "output_type": "display_data"
    }
   ],
   "source": [
    "plt.figure(figsize=(10,5))\n",
    "plt.bar(range(topic_model.tcs.shape[0]), topic_model.tcs, color='#4e79a7', width=0.5)\n",
    "plt.xlabel('Topic', fontsize=16)\n",
    "plt.ylabel('Total Correlation (nats)', fontsize=16);\n",
    "plt.savefig('topic_graph.png')"
   ]
  },
  {
   "cell_type": "code",
   "execution_count": 52,
   "metadata": {},
   "outputs": [
    {
     "name": "stdout",
     "output_type": "stream",
     "text": [
      "WARNING: Some words never appear (or always appear)\n"
     ]
    },
    {
     "ename": "KeyboardInterrupt",
     "evalue": "",
     "output_type": "error",
     "traceback": [
      "\u001b[0;31m---------------------------------------------------------------------------\u001b[0m",
      "\u001b[0;31mKeyboardInterrupt\u001b[0m                         Traceback (most recent call last)",
      "\u001b[0;32m/var/folders/36/w8jclnw52p3d1qr2544j3lth0000gn/T/ipykernel_85295/1693487590.py\u001b[0m in \u001b[0;36m<module>\u001b[0;34m\u001b[0m\n\u001b[1;32m      1\u001b[0m \u001b[0mtopic_model2\u001b[0m \u001b[0;34m=\u001b[0m \u001b[0mct\u001b[0m\u001b[0;34m.\u001b[0m\u001b[0mCorex\u001b[0m\u001b[0;34m(\u001b[0m\u001b[0mn_hidden\u001b[0m\u001b[0;34m=\u001b[0m\u001b[0;36m10\u001b[0m\u001b[0;34m,\u001b[0m \u001b[0mwords\u001b[0m\u001b[0;34m=\u001b[0m\u001b[0mwords\u001b[0m\u001b[0;34m,\u001b[0m \u001b[0mseed\u001b[0m\u001b[0;34m=\u001b[0m\u001b[0;36m2\u001b[0m\u001b[0;34m)\u001b[0m\u001b[0;34m\u001b[0m\u001b[0;34m\u001b[0m\u001b[0m\n\u001b[0;32m----> 2\u001b[0;31m \u001b[0mtopic_model2\u001b[0m\u001b[0;34m.\u001b[0m\u001b[0mfit\u001b[0m\u001b[0;34m(\u001b[0m\u001b[0mdoc_word\u001b[0m\u001b[0;34m,\u001b[0m \u001b[0mwords\u001b[0m\u001b[0;34m=\u001b[0m\u001b[0mwords\u001b[0m\u001b[0;34m,\u001b[0m \u001b[0mdocs\u001b[0m\u001b[0;34m=\u001b[0m\u001b[0mdocs_list_clean\u001b[0m\u001b[0;34m)\u001b[0m\u001b[0;34m\u001b[0m\u001b[0;34m\u001b[0m\u001b[0m\n\u001b[0m",
      "\u001b[0;32m~/opt/anaconda3/envs/metis/lib/python3.9/site-packages/corextopic/corextopic.py\u001b[0m in \u001b[0;36mfit\u001b[0;34m(self, X, y, anchors, anchor_strength, words, docs)\u001b[0m\n\u001b[1;32m    145\u001b[0m         \u001b[0mFit\u001b[0m \u001b[0mCorEx\u001b[0m \u001b[0mon\u001b[0m \u001b[0mthe\u001b[0m \u001b[0mdata\u001b[0m \u001b[0mX\u001b[0m\u001b[0;34m.\u001b[0m \u001b[0mSee\u001b[0m \u001b[0mfit_transform\u001b[0m\u001b[0;34m.\u001b[0m\u001b[0;34m\u001b[0m\u001b[0;34m\u001b[0m\u001b[0m\n\u001b[1;32m    146\u001b[0m         \"\"\"\n\u001b[0;32m--> 147\u001b[0;31m         \u001b[0mself\u001b[0m\u001b[0;34m.\u001b[0m\u001b[0mfit_transform\u001b[0m\u001b[0;34m(\u001b[0m\u001b[0mX\u001b[0m\u001b[0;34m,\u001b[0m \u001b[0manchors\u001b[0m\u001b[0;34m=\u001b[0m\u001b[0manchors\u001b[0m\u001b[0;34m,\u001b[0m \u001b[0manchor_strength\u001b[0m\u001b[0;34m=\u001b[0m\u001b[0manchor_strength\u001b[0m\u001b[0;34m,\u001b[0m \u001b[0mwords\u001b[0m\u001b[0;34m=\u001b[0m\u001b[0mwords\u001b[0m\u001b[0;34m,\u001b[0m \u001b[0mdocs\u001b[0m\u001b[0;34m=\u001b[0m\u001b[0mdocs\u001b[0m\u001b[0;34m)\u001b[0m\u001b[0;34m\u001b[0m\u001b[0;34m\u001b[0m\u001b[0m\n\u001b[0m\u001b[1;32m    148\u001b[0m         \u001b[0;32mreturn\u001b[0m \u001b[0mself\u001b[0m\u001b[0;34m\u001b[0m\u001b[0;34m\u001b[0m\u001b[0m\n\u001b[1;32m    149\u001b[0m \u001b[0;34m\u001b[0m\u001b[0m\n",
      "\u001b[0;32m~/opt/anaconda3/envs/metis/lib/python3.9/site-packages/corextopic/corextopic.py\u001b[0m in \u001b[0;36mfit_transform\u001b[0;34m(self, X, y, anchors, anchor_strength, words, docs)\u001b[0m\n\u001b[1;32m    186\u001b[0m                         \u001b[0mp_y_given_x\u001b[0m\u001b[0;34m[\u001b[0m\u001b[0;34m:\u001b[0m\u001b[0;34m,\u001b[0m \u001b[0mj\u001b[0m\u001b[0;34m]\u001b[0m \u001b[0;34m=\u001b[0m \u001b[0;36m1.\u001b[0m \u001b[0;34m-\u001b[0m \u001b[0mp_y_given_x\u001b[0m\u001b[0;34m[\u001b[0m\u001b[0;34m:\u001b[0m\u001b[0;34m,\u001b[0m \u001b[0mj\u001b[0m\u001b[0;34m]\u001b[0m\u001b[0;34m\u001b[0m\u001b[0;34m\u001b[0m\u001b[0m\n\u001b[1;32m    187\u001b[0m             \u001b[0mself\u001b[0m\u001b[0;34m.\u001b[0m\u001b[0mlog_p_y\u001b[0m \u001b[0;34m=\u001b[0m \u001b[0mself\u001b[0m\u001b[0;34m.\u001b[0m\u001b[0mcalculate_p_y\u001b[0m\u001b[0;34m(\u001b[0m\u001b[0mp_y_given_x\u001b[0m\u001b[0;34m)\u001b[0m\u001b[0;34m\u001b[0m\u001b[0;34m\u001b[0m\u001b[0m\n\u001b[0;32m--> 188\u001b[0;31m             \u001b[0mself\u001b[0m\u001b[0;34m.\u001b[0m\u001b[0mtheta\u001b[0m \u001b[0;34m=\u001b[0m \u001b[0mself\u001b[0m\u001b[0;34m.\u001b[0m\u001b[0mcalculate_theta\u001b[0m\u001b[0;34m(\u001b[0m\u001b[0mX\u001b[0m\u001b[0;34m,\u001b[0m \u001b[0mp_y_given_x\u001b[0m\u001b[0;34m,\u001b[0m \u001b[0mself\u001b[0m\u001b[0;34m.\u001b[0m\u001b[0mlog_p_y\u001b[0m\u001b[0;34m)\u001b[0m  \u001b[0;31m# log p(x_i=1|y)  nv by m by k\u001b[0m\u001b[0;34m\u001b[0m\u001b[0;34m\u001b[0m\u001b[0m\n\u001b[0m\u001b[1;32m    189\u001b[0m \u001b[0;34m\u001b[0m\u001b[0m\n\u001b[1;32m    190\u001b[0m             \u001b[0;32mif\u001b[0m \u001b[0mnloop\u001b[0m \u001b[0;34m>\u001b[0m \u001b[0;36m0\u001b[0m\u001b[0;34m:\u001b[0m  \u001b[0;31m# Structure learning step\u001b[0m\u001b[0;34m\u001b[0m\u001b[0;34m\u001b[0m\u001b[0m\n",
      "\u001b[0;32m~/opt/anaconda3/envs/metis/lib/python3.9/site-packages/corextopic/corextopic.py\u001b[0m in \u001b[0;36mcalculate_theta\u001b[0;34m(self, X, p_y_given_x, log_p_y)\u001b[0m\n\u001b[1;32m    381\u001b[0m         p_dot_y = X.T.dot(p_y_given_x).clip(0.01 * np.exp(log_p_y), (n_samples - 0.01) * np.exp(\n\u001b[1;32m    382\u001b[0m             log_p_y))  # nv by ns dot ns by m -> nv by m  # TODO: Change to CSC for speed?\n\u001b[0;32m--> 383\u001b[0;31m         \u001b[0mlp_1g1\u001b[0m \u001b[0;34m=\u001b[0m \u001b[0mnp\u001b[0m\u001b[0;34m.\u001b[0m\u001b[0mlog\u001b[0m\u001b[0;34m(\u001b[0m\u001b[0mp_dot_y\u001b[0m\u001b[0;34m)\u001b[0m \u001b[0;34m-\u001b[0m \u001b[0mnp\u001b[0m\u001b[0;34m.\u001b[0m\u001b[0mlog\u001b[0m\u001b[0;34m(\u001b[0m\u001b[0mn_samples\u001b[0m\u001b[0;34m)\u001b[0m \u001b[0;34m-\u001b[0m \u001b[0mlog_p_y\u001b[0m\u001b[0;34m\u001b[0m\u001b[0;34m\u001b[0m\u001b[0m\n\u001b[0m\u001b[1;32m    384\u001b[0m         \u001b[0mlp_1g0\u001b[0m \u001b[0;34m=\u001b[0m \u001b[0mnp\u001b[0m\u001b[0;34m.\u001b[0m\u001b[0mlog\u001b[0m\u001b[0;34m(\u001b[0m\u001b[0mself\u001b[0m\u001b[0;34m.\u001b[0m\u001b[0mword_counts\u001b[0m\u001b[0;34m[\u001b[0m\u001b[0;34m:\u001b[0m\u001b[0;34m,\u001b[0m \u001b[0mnp\u001b[0m\u001b[0;34m.\u001b[0m\u001b[0mnewaxis\u001b[0m\u001b[0;34m]\u001b[0m \u001b[0;34m-\u001b[0m \u001b[0mp_dot_y\u001b[0m\u001b[0;34m)\u001b[0m \u001b[0;34m-\u001b[0m \u001b[0mnp\u001b[0m\u001b[0;34m.\u001b[0m\u001b[0mlog\u001b[0m\u001b[0;34m(\u001b[0m\u001b[0mn_samples\u001b[0m\u001b[0;34m)\u001b[0m \u001b[0;34m-\u001b[0m \u001b[0mlog_1mp\u001b[0m\u001b[0;34m(\u001b[0m\u001b[0mlog_p_y\u001b[0m\u001b[0;34m)\u001b[0m\u001b[0;34m\u001b[0m\u001b[0;34m\u001b[0m\u001b[0m\n\u001b[1;32m    385\u001b[0m         \u001b[0mlp_0g0\u001b[0m \u001b[0;34m=\u001b[0m \u001b[0mlog_1mp\u001b[0m\u001b[0;34m(\u001b[0m\u001b[0mlp_1g0\u001b[0m\u001b[0;34m)\u001b[0m\u001b[0;34m\u001b[0m\u001b[0;34m\u001b[0m\u001b[0m\n",
      "\u001b[0;31mKeyboardInterrupt\u001b[0m: "
     ]
    }
   ],
   "source": [
    "topic_model2 = ct.Corex(n_hidden=10, words=words, seed=2)\n",
    "topic_model2.fit(doc_word, words=words, docs=docs_list_clean)"
   ]
  },
  {
   "cell_type": "code",
   "execution_count": null,
   "metadata": {},
   "outputs": [],
   "source": []
  }
 ],
 "metadata": {
  "interpreter": {
   "hash": "eeda09e8682780dc1dbad7711462886786ede58877e15e2f55a2f4f20b8e3e86"
  },
  "kernelspec": {
   "display_name": "Python 3.9.7 ('metis')",
   "language": "python",
   "name": "python3"
  },
  "language_info": {
   "codemirror_mode": {
    "name": "ipython",
    "version": 3
   },
   "file_extension": ".py",
   "mimetype": "text/x-python",
   "name": "python",
   "nbconvert_exporter": "python",
   "pygments_lexer": "ipython3",
   "version": "3.9.7"
  },
  "orig_nbformat": 4
 },
 "nbformat": 4,
 "nbformat_minor": 2
}
